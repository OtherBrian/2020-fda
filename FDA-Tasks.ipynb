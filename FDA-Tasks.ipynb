{
 "cells": [
  {
   "cell_type": "markdown",
   "metadata": {},
   "source": [
    "# Fundamentals of Data Analysis\n",
    "## Tasks\n",
    "\n",
    "These are my solutions to the Tasks assessment for this module. The author is Brian Doheny."
   ]
  },
  {
   "cell_type": "markdown",
   "metadata": {},
   "source": [
    "### Task 1\n",
    "\n",
    "Write a Python function called counts that takes a list as input and returns a dictionary of unique items in the list as keys and the number of times each item appears as values. So, the input ['A', 'A', 'B', 'C', 'A'] should have output {'A': 3, 'B': 1, 'C': 1} . Your code should not depend on any module from the standard library or otherwise. You should research the task first and include a description with references of your algorithm in the notebook."
   ]
  },
  {
   "cell_type": "markdown",
   "metadata": {},
   "source": [
    "### Pseudocode\n",
    "\n",
    "<p>for item in list:</p>\n",
    "    <p>if item in dictionary.keys:</p>\n",
    "        <p>dictionary.item += 1</p>\n",
    "    <p>else:</p> \n",
    "        <p>dictionary[item] = 1</p>\n"
   ]
  },
  {
   "cell_type": "markdown",
   "metadata": {},
   "source": [
    "# Approach\n",
    "\n",
    "Having done some work with Python dictionaries over the summer, I was aware of how to iterate over dictionary keys. This meant it was pretty straight forward for me to work backwards and check if the list item is within those keys, if it is then add 1 to its count, otherwise create a new key and set the value at 1. This works fine for the example list, and other lists contain strings, floats, integers and such.\n",
    "\n",
    "However, if the list contains another list, this approach encounters a problem. A list is an unhashable type, and so it cannot be used as a dictionary key. As outlined on the Python Data Structure documentation[4]:\n",
    "\n",
    "```Unlike sequences, which are indexed by a range of numbers, dictionaries are indexed by keys, which can be any immutable type; strings and numbers can always be keys. Tuples can be used as keys if they contain only strings, numbers, or tuples; if a tuple contains any mutable object either directly or indirectly, it cannot be used as a key. You can’t use lists as keys, since lists can be modified in place using index assignments, slice assignments, or methods like append() and extend().```\n",
    "\n",
    "This means I have two paths towards a potential solution.\n",
    "1) Convert the inner list into a tuple, and use that as the key. This is straightforward enough, as the FOR loop would just need to check the type of the next item it's iterating through, and if it's a list, convert that item to a tuple. However, this would encounter an issue if there's yet another list within this second layer of lists. The Python Data Structure documentation explicitly says that if the tuple contains a mutable object (in this case a list) either directly or indirectly, it cannot be used as a key. Therefore the additional nested listed will prevent this solution from working on all occassions. Alongside this, tuples as keys wouldn't be the idea solution anyway, as I'm taking this problem to mean that we want to count every individual item in every individual list.\n",
    "2) Find a way to unpack or iterate over any and all nested lists. This seems to be the most likely solution, as it will allow the program to count every individual item in every list. As long as I can find a way to iterate over 2nd and 3rd nested lists, it should work regardless of how deep further lists are nested. \n",
    "\n",
    "I'll therefore be going for path 2 for my solution. \n",
    "\n"
   ]
  },
  {
   "cell_type": "markdown",
   "metadata": {},
   "source": [
    "### References\n",
    "<p>Example</p>\n",
    "<p>[1] Real Python; How to Iterate Through a Dictionary in Python; https://realpython.com/iterate-through-dictionary-python/</p>\n",
    "<p>[2] Career Karma; Python Add to Dictionary: A Guide; https://careerkarma.com/blog/python-add-to-dictionary/</p>\n",
    "<p>[3] Geeks for Geeks; Python | Get specific keys' values; https://www.geeksforgeeks.org/python-get-specific-keys-values/?ref=rp</p>\n",
    "<p>[4] Python; Data Structures; https://docs.python.org/3/tutorial/datastructures.html#dictionaries</p>\n",
    "<p>[5] Real Python; Python Inner Functions—What Are They Good For?; https://realpython.com/inner-functions-what-are-they-good-for/ </p>"
   ]
  },
  {
   "cell_type": "code",
   "execution_count": 2,
   "metadata": {},
   "outputs": [],
   "source": [
    "#Setting the example list from the problem. This will be an initial test for my program.\n",
    "test = ['A', 'A', 'B', 'C', 'A']\n",
    "\n",
    "#If I were to follow path 1, this is how it would look.\n",
    "def counts(items):\n",
    "    '''Takes a list as input, and procudes a dictionary containing the unique contents of the list, \n",
    "    and the number of times it appeared in the list'''\n",
    "    #Create an empty dictionary to store the results.\n",
    "    results = {}\n",
    "    \n",
    "    #Turning the list into a tuple lets us add it as a dictionary key.\n",
    "    #We would need to check that the item is a list before we go through the dictionary keys.\n",
    "    for item in items:\n",
    "        if type(item) == list: #check if the next item is a list.\n",
    "            item = tuple(item) #if so, change it to be a tuple.\n",
    "        else:\n",
    "            pass\n",
    "        #Once any lists are changed to tuples, we can see if they already exist in the dictionary keys.\n",
    "        if item in results.keys():\n",
    "            results[item] += 1 #if the dictionary exists, add 1 to its count.\n",
    "        else:\n",
    "            results[item] = 1 #if the dictionary does not exist, create a new key and set the count to 1.\n",
    "    return results        "
   ]
  },
  {
   "cell_type": "code",
   "execution_count": 3,
   "metadata": {},
   "outputs": [],
   "source": [
    "#Initial path 2 solution - iterating through a nested list.\n",
    "def counts2(items):\n",
    "    '''Takes a list as input, and procudes a dictionary containing the unique contents of the list, \n",
    "    and the number of times it appeared in the list'''\n",
    "    #Create an empty dictionary to store the results.\n",
    "    results = {}\n",
    "    \n",
    "    #This is for path 2 - iterating through nested lists.\n",
    "    \n",
    "    try: #try/except will at least get rid of the error for now\n",
    "        for item in items:\n",
    "        \n",
    "            if type(item) == list: #check if the next item is a list.\n",
    "                for subitem in item:\n",
    "                    if subitem in results.keys():\n",
    "                        results[subitem] += 1 \n",
    "                    else:\n",
    "                        results[subitem] = 1 \n",
    "            else:\n",
    "                if item in results.keys():\n",
    "                    results[item] += 1 \n",
    "                else:\n",
    "                    results[item] = 1 \n",
    "        \n",
    "    except TypeError:\n",
    "        return results       "
   ]
  },
  {
   "cell_type": "code",
   "execution_count": 11,
   "metadata": {},
   "outputs": [],
   "source": [
    "#Now to try multiple levels of nested lists.\n",
    "def counts3(items):\n",
    "    '''Takes a list as input, and procudes a dictionary containing the unique contents of the list, \n",
    "    and the number of times it appeared in the list'''\n",
    "    #Create an empty dictionary to store the results.\n",
    "    results = {}\n",
    "    \n",
    "    #This is for path 2 - iterating through nested lists.\n",
    "    #Got the idea for inner functions from Real Python [5]\n",
    "    #This means I can have to inner functions - one to count integers, strings, floats as usual.\n",
    "    #And another to iterate through any nested list.\n",
    "    def countlist(item):\n",
    "        for subitem in item:\n",
    "            #If the subitem is itself a list, it will call countlist again. \n",
    "            #This means no matter how many nested lists there are, it will iterate through them.\n",
    "            if type(subitem) == list: \n",
    "                countlist(subitem)\n",
    "            #If the subitem is not a list, then it'll just run the normal countitem function.\n",
    "            else:\n",
    "                countitem(subitem)\n",
    "    \n",
    "    #Because countlist iterates through a list, it'll throw an error if it were to encounter an uniterable object\n",
    "    #such as a string. Therefore I need a second inner function specifically for uniterable objects.\n",
    "    def countitem(item):\n",
    "        if item in results.keys():\n",
    "            results[item] += 1 \n",
    "        else:\n",
    "            results[item] = 1\n",
    "    \n",
    "    #Finally, this FOR loop will go through the high level list. If the item within the list is itself a list\n",
    "    #That item will go through the countlist inner function. Otherwise it goes through countitem.\n",
    "    for item in items:\n",
    "        if type(item) == list: \n",
    "            countlist(item)\n",
    "        else:\n",
    "             countitem(item)\n",
    "        \n",
    "    return results       "
   ]
  },
  {
   "cell_type": "code",
   "execution_count": 12,
   "metadata": {},
   "outputs": [
    {
     "data": {
      "text/plain": [
       "{1: 6, 2: 5, 3: 5, 27.124: 1, 'hi': 1, 'hello': 1}"
      ]
     },
     "execution_count": 12,
     "metadata": {},
     "output_type": "execute_result"
    }
   ],
   "source": [
    "bigtest = [1, 5, 17, 82, 91, 'horse', 'cow', 'cheese', 47.7777, 1, 1, 1, 1, 1, 5, 17, 1, 82, 91, 'horse',\n",
    "           'cow', 'cheese', 15, 81, 'cheese', ['another', 'list', 'in', 'the', 'list', 77]]\n",
    "\n",
    "listsinlists = [1, 2, 3, [1, 2, 3, 27.124, [1, 2, 3, 'hi', [[1,[1, 'hello'], 2, 3], 1, 2, 3]]]]\n",
    "\n",
    "counts3(listsinlists)"
   ]
  },
  {
   "cell_type": "markdown",
   "metadata": {},
   "source": [
    "# Task 2\n",
    "\n",
    "Write a Python function called dicerolls that simulates rolling dice. Your function should take two parameters: the number of dice k and the number of times to roll the dice n. The function should simulate randomly rolling k dice n times, keeping track of each total face value. It should then return a dictionary with the number of times each possible total face value occurred. So, calling the function as diceroll(k=2, n=1000) should return a dictionary like:\n",
    "\n",
    "{2:19,3:50,4:82,5:112,6:135,7:174,8:133,9:114,10:75,11:70,12:36} \n",
    "You can use any module from the Python standard library you wish and you should include a description with references of your algorithm in the notebook."
   ]
  },
  {
   "cell_type": "markdown",
   "metadata": {},
   "source": [
    "## Pseudocode\n",
    "\n",
    "import numpy as np\n",
    "\n",
    "def diceroll(k, n):\n",
    "    results = {}\n",
    "    total = 0\n",
    "    \n",
    "    def roll(k):\n",
    "        for i in range(k):\n",
    "            face = np.random(1,7)\n",
    "            total = total + face\n",
    "    return total\n",
    "\n",
    "    for g in range(n):\n",
    "        roll(k)\n",
    "        if total in results.keys():\n",
    "            results[total] += 1\n",
    "        else resu\n",
    "    "
   ]
  },
  {
   "cell_type": "markdown",
   "metadata": {},
   "source": [
    "Notes \n",
    "\n",
    "Will likely use NumPy for this. randint could probably do it.\n",
    "Want to ensure I have all available combinations as dictionary keys, even if it's rolled 0 times.\n",
    "Ca"
   ]
  },
  {
   "cell_type": "code",
   "execution_count": null,
   "metadata": {},
   "outputs": [],
   "source": [
    "import numpy as np\n",
    "\n",
    "\n"
   ]
  }
 ],
 "metadata": {
  "kernelspec": {
   "display_name": "Python 3",
   "language": "python",
   "name": "python3"
  },
  "language_info": {
   "codemirror_mode": {
    "name": "ipython",
    "version": 3
   },
   "file_extension": ".py",
   "mimetype": "text/x-python",
   "name": "python",
   "nbconvert_exporter": "python",
   "pygments_lexer": "ipython3",
   "version": "3.8.3"
  }
 },
 "nbformat": 4,
 "nbformat_minor": 4
}
