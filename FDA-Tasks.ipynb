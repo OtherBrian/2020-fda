{
 "cells": [
  {
   "cell_type": "markdown",
   "metadata": {},
   "source": [
    "# Fundamentals of Data Analysis\n",
    "## Tasks\n",
    "\n",
    "These are my solutions to the problems for the Fundamentals of Data Analysis 2020 Task assignment.\n",
    "\n",
    "For each task, you will find the problem statement, followed directly by my final program. Below this you will find a detailed outline of my approach, which will walk you through how I got to that final program, and what resources I have used.\n",
    "\n",
    "* [Task 1](#task1)\n",
    "* [Task 2](#task2)"
   ]
  },
  {
   "cell_type": "markdown",
   "metadata": {},
   "source": [
    "<a id='task1'></a>\n",
    "# Task 1\n",
    "\n",
    "## Problem\n",
    "Write a Python function called counts that takes a list as input and returns a dictionary of unique items in the list as keys and the number of times each item appears as values. So, the input ['A', 'A', 'B', 'C', 'A'] should have output {'A': 3, 'B': 1, 'C': 1} . Your code should not depend on any module from the standard library or otherwise. You should research the task first and include a description with references of your algorithm in the notebook."
   ]
  },
  {
   "cell_type": "markdown",
   "metadata": {},
   "source": [
    "## Answer\n",
    "----"
   ]
  },
  {
   "cell_type": "code",
   "execution_count": 1,
   "metadata": {},
   "outputs": [],
   "source": [
    "def counts(items):\n",
    "    '''Takes a list as input, and produces a dictionary containing the unique contents of the list, \n",
    "    and the number of times it appeared in the list'''\n",
    "    #Create an empty dictionary to store the results.\n",
    "    results = {}\n",
    "    \n",
    "    #Defining a function to check if the next item is a list.\n",
    "    def count_list(item):\n",
    "        '''Checks if the list item is itself a list. \n",
    "        If it is a list, it will check if the next item of that list is itself a list.\n",
    "        It will keep doing this until it finds an element that is not a list.\n",
    "        A this point it will call count_item on that element.'''\n",
    "        for sub_item in item:\n",
    "            #If the sub item is itself a list, it will call count_list again. \n",
    "            #This means no matter how many nested lists there are, it will iterate through all them.\n",
    "            if type(sub_item) == list: \n",
    "                count_list(sub_item)\n",
    "            #If the subitem is not a list, then it'll just run the count_item function defined below.\n",
    "            else:\n",
    "                count_item(sub_item)\n",
    "    \n",
    "    #Because count_list iterates through a list, it'll throw an error if it were to encounter an uniterable object\n",
    "    #For example, a string. Therefore I need a second inner function specifically for uniterable objects.\n",
    "    #These will be the dictionary keys.\n",
    "    def count_item(item):\n",
    "        '''Checks if the list item already exists as a dictionary key. If it does, it will add 1 to its value.\n",
    "        If it does not exist as a dictionary key, it will create a new key for that item, and set the value to 1'''\n",
    "        if item in results:\n",
    "            results[item] += 1 \n",
    "        else:\n",
    "            results[item] = 1\n",
    "    \n",
    "    #Finally, this FOR loop will go through the initial list (the items parameter). \n",
    "    #If the item within the list is itself a list, That item will go through the count_list inner function. \n",
    "    #Otherwise it goes through count_item.\n",
    "    for item in items:\n",
    "        if type(item) == list: \n",
    "            count_list(item)\n",
    "        else:\n",
    "             count_item(item)\n",
    "        \n",
    "    return results            "
   ]
  },
  {
   "cell_type": "code",
   "execution_count": 2,
   "metadata": {},
   "outputs": [
    {
     "data": {
      "text/plain": [
       "{'A': 3, 'B': 1, 'C': 1}"
      ]
     },
     "execution_count": 2,
     "metadata": {},
     "output_type": "execute_result"
    }
   ],
   "source": [
    "test = ['A', 'A', 'B', 'C', 'A']\n",
    "counts(test)"
   ]
  },
  {
   "cell_type": "markdown",
   "metadata": {},
   "source": [
    "## Approach\n",
    "----\n",
    "### Checking for Dictionary keys\n",
    "\n",
    "As the program must return a dictionary of the unique items in the list, alongside how frequently they appear as value, we must first ensure we know how to iterate over a dictionary's keys. This will allow us to check if a list item already exists as a key, and so our program can take the necessary next step; create a new key for the new item, or update the value for the existing key if it is a duplicate item.\n",
    "\n",
    "This can be done by using a Dictionary Membership Test[6], which will return a boolean (True or False) depending on whether or not the variable already exists in the dictionary. The syntax for a dictionary membership test is simply:\n",
    "```\n",
    "variable in dictionary\n",
    "```\n",
    "or alternatively you can check if a key does not already exist in the dictionary by using:\n",
    "```\n",
    "variable not in dictionary\n",
    "```\n",
    "With this membership test, we can then use a straightforward If/Else statement to determine whether or not a new key must be created, or if an existing key needs its value altered[2][3]:\n",
    "```\n",
    "if variable in dictionary:\n",
    "    dictionary[variable] += 1\n",
    "else:\n",
    "    dictionary[variable] = 1\n",
    "```\n",
    "This gives us a fairly straightforward initial solution:"
   ]
  },
  {
   "cell_type": "code",
   "execution_count": 3,
   "metadata": {},
   "outputs": [],
   "source": [
    "# Define the test list, as offered in the problem.\n",
    "test = ['A', 'A', 'B', 'C', 'A']"
   ]
  },
  {
   "cell_type": "code",
   "execution_count": 54,
   "metadata": {},
   "outputs": [],
   "source": [
    "def counts(items):\n",
    "    '''Takes a list as input, and produces a dictionary containing the unique contents of the list, \n",
    "    and the number of times it appeared in the list'''\n",
    "    \n",
    "    #Create an empty dictionary to store the results.\n",
    "    results = {}\n",
    "    \n",
    "    #Iterate over the list items, and see if a key already exists.\n",
    "    for item in items:\n",
    "        if item in results:\n",
    "            results[item] += 1 \n",
    "        else:\n",
    "            results[item] = 1\n",
    "    #Return the completed dictionary.\n",
    "    return results       "
   ]
  },
  {
   "cell_type": "code",
   "execution_count": 5,
   "metadata": {},
   "outputs": [
    {
     "data": {
      "text/plain": [
       "{'A': 3, 'B': 1, 'C': 1}"
      ]
     },
     "execution_count": 5,
     "metadata": {},
     "output_type": "execute_result"
    }
   ],
   "source": [
    "counts(test)"
   ]
  },
  {
   "cell_type": "markdown",
   "metadata": {},
   "source": [
    "### Nested lists and how to deal with them\n",
    "\n",
    "While the example list included in the problem statement doesn't contain any nested lists, they are something that the program might encounter in the real world. Therefore it's important to find a solution for this now, and one that will ideally scale with the program.\n",
    "\n",
    "As lists are a hashable data type (i.e. they can altered), they cannot be used as a dictionary key, as outlined in the Python Data Structure documentation[4]:\n",
    "\n",
    "```Unlike sequences, which are indexed by a range of numbers, dictionaries are indexed by keys, which can be any immutable type; strings and numbers can always be keys. Tuples can be used as keys if they contain only strings, numbers, or tuples; if a tuple contains any mutable object either directly or indirectly, it cannot be used as a key. You can’t use lists as keys, since lists can be modified in place using index assignments, slice assignments, or methods like append() and extend().```\n",
    "\n",
    "This therefore opens up two potential solutions - change the nested list to a tuple, or find a way to iterate over the nest lists.\n",
    "\n",
    "#### Converting a nested list into a tuple\n",
    "\n",
    "Converting the inner list into a tuple, and using that as the key is a straightforward solution. The FOR loop would just need to check the type of the next item it's iterating through, and if it's a list, convert that item to a tuple:\n",
    "```\n",
    "if type(list[item]) == list:\n",
    "    item = tuple(item)\n",
    "```\n",
    "However, this would encounter an issue if there's yet another list within this second layer of lists. The Python Data Structure[4] documentation explicitly says that if the \"tuple contains a mutable object\" (in this case a list) \"either directly or indirectly, it cannot be used as a key\". Therefore the additional nested listed will prevent this solution from working in all situations. Alongside this, tuples as keys might not be the ideal real world solution anyway, as it opens up the possibility of lengthy dictionary keys that may not serve much purpose for analysis. \n",
    "\n",
    "If we were to follow this path, it would look something like this: "
   ]
  },
  {
   "cell_type": "code",
   "execution_count": 55,
   "metadata": {},
   "outputs": [],
   "source": [
    "#If I were to follow path 1, this is how it would look.\n",
    "def counts(items):\n",
    "    '''Takes a list as input, and produces a dictionary containing the unique contents of the list, \n",
    "    and the number of times it appeared in the list'''\n",
    "    \n",
    "    #Create an empty dictionary to store the results.\n",
    "    results = {}\n",
    "    \n",
    "    #Turning the list into a tuple lets us add it as a dictionary key.\n",
    "    #We would need to check that the item is a list before we go through the dictionary keys.\n",
    "    for item in items:\n",
    "        if type(item) == list: #check if the next item is a list.\n",
    "            item = tuple(item) #if so, change it to be a tuple.\n",
    "        else:\n",
    "            pass\n",
    "        \n",
    "        #Once any lists are changed to tuples, we can see if they already exist in the dictionary keys.\n",
    "        if item in results.keys():\n",
    "            results[item] += 1 \n",
    "        else:\n",
    "            results[item] = 1 \n",
    "   \n",
    "    #Return the completed dictionary.\n",
    "    return results        "
   ]
  },
  {
   "cell_type": "code",
   "execution_count": 7,
   "metadata": {},
   "outputs": [
    {
     "data": {
      "text/plain": [
       "{1: 7,\n",
       " 5: 2,\n",
       " 17: 2,\n",
       " 82: 2,\n",
       " 91: 2,\n",
       " 'horse': 2,\n",
       " 'cow': 2,\n",
       " 'cheese': 3,\n",
       " 47.7777: 1,\n",
       " 15: 1,\n",
       " 81: 1,\n",
       " ('another', 'list', 'in', 'the', 'list', 77): 1}"
      ]
     },
     "execution_count": 7,
     "metadata": {},
     "output_type": "execute_result"
    }
   ],
   "source": [
    "# Create a list containing a list to test this approach.\n",
    "bigtest = [1, 5, 17, 82, 91, 'horse', 'cow', 'cheese', 47.7777, 1, 1, 1, 1, 1, 5, 17, 1, 82, 91, 'horse',\n",
    "           'cow', 'cheese', 15, 81, 'cheese', ['another', 'list', 'in', 'the', 'list', 77]]\n",
    "\n",
    "counts(bigtest)"
   ]
  },
  {
   "cell_type": "code",
   "execution_count": 8,
   "metadata": {},
   "outputs": [
    {
     "ename": "TypeError",
     "evalue": "unhashable type: 'list'",
     "output_type": "error",
     "traceback": [
      "\u001b[0;31m---------------------------------------------------------------------------\u001b[0m",
      "\u001b[0;31mTypeError\u001b[0m                                 Traceback (most recent call last)",
      "\u001b[0;32m<ipython-input-8-352c55a82312>\u001b[0m in \u001b[0;36m<module>\u001b[0;34m\u001b[0m\n\u001b[1;32m      3\u001b[0m \u001b[0mlists_in_lists\u001b[0m \u001b[0;34m=\u001b[0m \u001b[0;34m[\u001b[0m\u001b[0;36m1\u001b[0m\u001b[0;34m,\u001b[0m \u001b[0;36m2\u001b[0m\u001b[0;34m,\u001b[0m \u001b[0;36m3\u001b[0m\u001b[0;34m,\u001b[0m \u001b[0;34m[\u001b[0m\u001b[0;36m1\u001b[0m\u001b[0;34m,\u001b[0m \u001b[0;36m2\u001b[0m\u001b[0;34m,\u001b[0m \u001b[0;36m3\u001b[0m\u001b[0;34m,\u001b[0m \u001b[0;36m27.124\u001b[0m\u001b[0;34m,\u001b[0m \u001b[0;34m[\u001b[0m\u001b[0;36m1\u001b[0m\u001b[0;34m,\u001b[0m \u001b[0;36m2\u001b[0m\u001b[0;34m,\u001b[0m \u001b[0;36m3\u001b[0m\u001b[0;34m,\u001b[0m \u001b[0;34m'hi'\u001b[0m\u001b[0;34m,\u001b[0m \u001b[0;34m[\u001b[0m\u001b[0;34m[\u001b[0m\u001b[0;36m1\u001b[0m\u001b[0;34m,\u001b[0m\u001b[0;34m[\u001b[0m\u001b[0;36m1\u001b[0m\u001b[0;34m,\u001b[0m \u001b[0;34m'hello'\u001b[0m\u001b[0;34m]\u001b[0m\u001b[0;34m,\u001b[0m \u001b[0;36m2\u001b[0m\u001b[0;34m,\u001b[0m \u001b[0;36m3\u001b[0m\u001b[0;34m]\u001b[0m\u001b[0;34m,\u001b[0m \u001b[0;36m1\u001b[0m\u001b[0;34m,\u001b[0m \u001b[0;36m2\u001b[0m\u001b[0;34m,\u001b[0m \u001b[0;36m3\u001b[0m\u001b[0;34m]\u001b[0m\u001b[0;34m]\u001b[0m\u001b[0;34m]\u001b[0m\u001b[0;34m]\u001b[0m\u001b[0;34m\u001b[0m\u001b[0;34m\u001b[0m\u001b[0m\n\u001b[1;32m      4\u001b[0m \u001b[0;34m\u001b[0m\u001b[0m\n\u001b[0;32m----> 5\u001b[0;31m \u001b[0mcounts\u001b[0m\u001b[0;34m(\u001b[0m\u001b[0mlists_in_lists\u001b[0m\u001b[0;34m)\u001b[0m\u001b[0;34m\u001b[0m\u001b[0;34m\u001b[0m\u001b[0m\n\u001b[0m",
      "\u001b[0;32m<ipython-input-6-2663131dcfc2>\u001b[0m in \u001b[0;36mcounts\u001b[0;34m(items)\u001b[0m\n\u001b[1;32m     16\u001b[0m \u001b[0;34m\u001b[0m\u001b[0m\n\u001b[1;32m     17\u001b[0m         \u001b[0;31m#Once any lists are changed to tuples, we can see if they already exist in the dictionary keys.\u001b[0m\u001b[0;34m\u001b[0m\u001b[0;34m\u001b[0m\u001b[0;34m\u001b[0m\u001b[0m\n\u001b[0;32m---> 18\u001b[0;31m         \u001b[0;32mif\u001b[0m \u001b[0mitem\u001b[0m \u001b[0;32min\u001b[0m \u001b[0mresults\u001b[0m\u001b[0;34m.\u001b[0m\u001b[0mkeys\u001b[0m\u001b[0;34m(\u001b[0m\u001b[0;34m)\u001b[0m\u001b[0;34m:\u001b[0m\u001b[0;34m\u001b[0m\u001b[0;34m\u001b[0m\u001b[0m\n\u001b[0m\u001b[1;32m     19\u001b[0m             \u001b[0mresults\u001b[0m\u001b[0;34m[\u001b[0m\u001b[0mitem\u001b[0m\u001b[0;34m]\u001b[0m \u001b[0;34m+=\u001b[0m \u001b[0;36m1\u001b[0m\u001b[0;34m\u001b[0m\u001b[0;34m\u001b[0m\u001b[0m\n\u001b[1;32m     20\u001b[0m         \u001b[0;32melse\u001b[0m\u001b[0;34m:\u001b[0m\u001b[0;34m\u001b[0m\u001b[0;34m\u001b[0m\u001b[0m\n",
      "\u001b[0;31mTypeError\u001b[0m: unhashable type: 'list'"
     ]
    }
   ],
   "source": [
    "# If there is yet another level of lists, really receive an error: \"TypeError: unhashable type: 'list'\"\n",
    "\n",
    "lists_in_lists = [1, 2, 3, [1, 2, 3, 27.124, [1, 2, 3, 'hi', [[1,[1, 'hello'], 2, 3], 1, 2, 3]]]]\n",
    "\n",
    "counts(lists_in_lists)"
   ]
  },
  {
   "cell_type": "markdown",
   "metadata": {},
   "source": [
    "#### Iterating over nested lists.\n",
    "\n",
    "A more scalable and potentially useful solution is to iterate over any nested lists too. This will involve checking the data type of the next list item, and if it is a list, running the FOR loop again. This seems to be the most likely solution, as it will allow the program to count every individual item in every list. A program that can unpack nested lists could be used for counting the frequency of words in files or when scraping websites, and so has a real world use case. I am therefore interpreting this as the desired outcome for this problem.\n",
    "\n",
    "However in order to do this, I must find a way to repeat the FOR loop as many times as necessary, ideally without having to repeat my code over and over again. \n",
    "\n",
    "### Nested Functions and DRY[7]\n",
    "\n",
    "If I were to rely solely on FOR loops, I would require a loop for every level of nested list. As I do not know what lists this program will be used for, I therefore cannot estimate how many I would need. Should I include a dozen nested for loops? Will that cover every necessity? \n",
    "\n",
    "Obviously in such a situation my code would be unnecessarily repetitive in most scenarios, and not repetitive enough in others. I had to find a way to reuse my original FOR loop for updating the dictionary keys, without having to repeat that code endlessly, and fortunately Python has just the tool I need - nested functions[5]. This will ensure that my code is DRY - Don't Repeat Yourself[7].\n",
    "\n",
    "By defining my initial FOR loop as a nested function, I will be able call it as many times as I need without having to repeat those 5 lines of code each time. Better yet, as this function is nested within the Counts function, it can make use of the same input parameters as were provided when the Counts function was called. Similarly, if I am using a nested function for the dictionary keys FOR loop, I could also use one for the FOR loop which checks if the next list item is of list type itself.\n"
   ]
  },
  {
   "cell_type": "code",
   "execution_count": 58,
   "metadata": {},
   "outputs": [],
   "source": [
    "def counts(items):\n",
    "    '''Takes a list as input, and produces a dictionary containing the unique contents of the list, \n",
    "    and the number of times it appeared in the list'''\n",
    "    #Create an empty dictionary to store the results.\n",
    "    results = {}\n",
    "    \n",
    "    #Defining a function to check if the next item is a list.\n",
    "    def count_list(item):\n",
    "        '''Checks if the list item is itself a list. \n",
    "        If it is a list, it will check if the next item of that list is itself a list.\n",
    "        It will keep doing this until it finds an element that is not a list.\n",
    "        A this point it will call count_item on that element.'''\n",
    "        for sub_item in item:\n",
    "            #If the sub item is itself a list, it will call count_list again. \n",
    "            #This means no matter how many nested lists there are, it will iterate through all them.\n",
    "            if type(sub_item) == list: \n",
    "                count_list(sub_item)\n",
    "            #If the subitem is not a list, then it'll just run the count_item function defined below.\n",
    "            else:\n",
    "                count_item(sub_item)\n",
    "    \n",
    "    #Because count_list iterates through a list, it'll throw an error if it were to encounter an uniterable object\n",
    "    #For example, a string. Therefore I need a second inner function specifically for uniterable objects.\n",
    "    #These will be the dictionary keys.\n",
    "    def count_item(item):\n",
    "        '''Checks if the list item already exists as a dictionary key. If it does, it will add 1 to its value.\n",
    "        If it does not exist as a dictionary key, it will create a new key for that item, and set the value to 1'''\n",
    "        if item in results:\n",
    "            results[item] += 1 \n",
    "        else:\n",
    "            results[item] = 1\n",
    "    \n",
    "    #Finally, this FOR loop will go through the initial list (the items parameter). \n",
    "    #If the item within the list is itself a list, That item will go through the count_list inner function. \n",
    "    #Otherwise it goes through count_item.\n",
    "    for item in items:\n",
    "        if type(item) == list: \n",
    "            count_list(item)\n",
    "        else:\n",
    "             count_item(item)\n",
    "        \n",
    "    return results            "
   ]
  },
  {
   "cell_type": "code",
   "execution_count": 10,
   "metadata": {},
   "outputs": [
    {
     "data": {
      "text/plain": [
       "{1: 6, 2: 5, 3: 5, 27.124: 1, 'hi': 1, 'hello': 1}"
      ]
     },
     "execution_count": 10,
     "metadata": {},
     "output_type": "execute_result"
    }
   ],
   "source": [
    "#This version will now work with lists nested at multiple levels.\n",
    "counts(lists_in_lists)"
   ]
  },
  {
   "cell_type": "markdown",
   "metadata": {},
   "source": [
    "### Other considerations\n",
    "\n",
    "The above function does what is requested within the problem statement, and will work no matter what list is provided. That said, there are potentially other additions that can be included in the answer for this. For example, how should this program deal with strings that contain the same letters, but different combinations of capitalized letters?\n",
    "\n",
    "For example, let's say our list contains two strings (among many): \n",
    "* \"DRY\" (the above mentioned \"Don't Repeat Yourself\" acronym), \n",
    "* \"dry\" (to mean lacking moisture)\n",
    "\n",
    "If I wish for my program to count the frequency of combinations of letters, then I would want these two to be treated exactly the same, and so they should both contribute to the same count. \n",
    "\n",
    "However, if I am looking to capture the content and meaning of the strings in the list, then I would want them to be counted separately, and perhaps later combine their totals if it made sense.\n",
    "\n",
    "The program above would follow the first of these approaches - treating these two words as fundamentally different, and therefore each having its own count. However, if we did wish to treat the two words as being the same, we could add an IF statement as the first step in the count_item function. Like so:\n",
    "```\n",
    " def count_item(item):\n",
    "      \n",
    "        if type(item) == str:\n",
    "            item = item.lower()\n",
    "            \n",
    "        if item in results:\n",
    "            results[item] += 1 \n",
    "        else:\n",
    "            results[item] = 1\n",
    "```"
   ]
  },
  {
   "cell_type": "code",
   "execution_count": 61,
   "metadata": {},
   "outputs": [],
   "source": [
    "def counts(items):\n",
    "    '''Takes a list as input, and produces a dictionary containing the unique contents of the list, \n",
    "    and the number of times it appeared in the list'''\n",
    "    #Create an empty dictionary to store the results.\n",
    "    results = {}\n",
    "    \n",
    "    #Defining a function to check if the next item is a list.\n",
    "    def count_list(item):\n",
    "        '''Checks if the list item is itself a list. \n",
    "        If it is a list, it will check if the next item of that list is itself a list.\n",
    "        It will keep doing this until it finds an element that is not a list.\n",
    "        A this point it will call count_item on that element.'''\n",
    "        for sub_item in item:\n",
    "            #If the sub item is itself a list, it will call count_list again. \n",
    "            #This means no matter how many nested lists there are, it will iterate through all them.\n",
    "            if type(sub_item) == list: \n",
    "                count_list(sub_item)\n",
    "            #If the subitem is not a list, then it'll just run the count_item function defined below.\n",
    "            else:\n",
    "                count_item(sub_item)\n",
    "    \n",
    "    #Because count_list iterates through a list, it'll throw an error if it were to encounter an uniterable object\n",
    "    #For example, a string. Therefore I need a second inner function specifically for uniterable objects.\n",
    "    #These will be the dictionary keys.\n",
    "    def count_item(item):\n",
    "        '''If the list item is a string, it'll convert it to lower case.\n",
    "        Then checks if the list item already exists as a dictionary key. If it does, it will add 1 to its value.\n",
    "        If it does not exist as a dictionary key, it will create a new key for that item, and set the value to 1'''\n",
    "        if type(item) == str:\n",
    "            item = item.lower()\n",
    "            \n",
    "        if item in results:\n",
    "            results[item] += 1 \n",
    "        else:\n",
    "            results[item] = 1\n",
    "    \n",
    "    #Finally, this FOR loop will go through the initial list (the items parameter). \n",
    "    #If the item within the list is itself a list, That item will go through the count_list inner function. \n",
    "    #Otherwise it goes through count_item.\n",
    "    for item in items:\n",
    "        if type(item) == list: \n",
    "            count_list(item)\n",
    "        else:\n",
    "             count_item(item)\n",
    "        \n",
    "    return results            "
   ]
  },
  {
   "cell_type": "code",
   "execution_count": 12,
   "metadata": {},
   "outputs": [
    {
     "data": {
      "text/plain": [
       "{'dry': 5}"
      ]
     },
     "execution_count": 12,
     "metadata": {},
     "output_type": "execute_result"
    }
   ],
   "source": [
    "dry_list = ['dry', 'DRY', ['dry', 'DrY', 'DRY']]\n",
    "\n",
    "counts(dry_list)"
   ]
  },
  {
   "cell_type": "markdown",
   "metadata": {},
   "source": [
    "Similar to this, we could also use the strip() method on any strings to remove trailing spaces.\n",
    "\n",
    "As my interpretation of the problem is to treat these two variations, \"dry\" and \"DRY\" as being unique, I have not included this additional IF statement in my final answer (found at the top)."
   ]
  },
  {
   "cell_type": "markdown",
   "metadata": {},
   "source": [
    "## References\n",
    "<p>Example</p>\n",
    "<p>[1] Real Python; How to Iterate Through a Dictionary in Python; https://realpython.com/iterate-through-dictionary-python/</p>\n",
    "<p>[2] Career Karma; Python Add to Dictionary: A Guide; https://careerkarma.com/blog/python-add-to-dictionary/</p>\n",
    "<p>[3] Geeks for Geeks; Python | Get specific keys' values; https://www.geeksforgeeks.org/python-get-specific-keys-values/?ref=rp</p>\n",
    "<p>[4] Python; Data Structures; https://docs.python.org/3/tutorial/datastructures.html#dictionaries</p>\n",
    "<p>[5] Real Python; Python Inner Functions—What Are They Good For?; https://realpython.com/inner-functions-what-are-they-good-for/ </p>\n",
    "<p>[6] Programiz; Python Dictionary; https://www.programiz.com/python-programming/dictionary</p>\n",
    "<p>[7] Wikipedia; Don't repeat yourself; https://en.wikipedia.org/wiki/Don%27t_repeat_yourself\n",
    "    \n",
    "_____"
   ]
  },
  {
   "cell_type": "markdown",
   "metadata": {},
   "source": [
    "<a id='task2'></a>\n",
    "\n",
    "# Task 2\n",
    "\n",
    "## Problem\n",
    "Write a Python function called dicerolls that simulates rolling dice. Your function should take two parameters: the number of dice k and the number of times to roll the dice n. The function should simulate randomly rolling k dice n times, keeping track of each total face value. It should then return a dictionary with the number of times each possible total face value occurred. So, calling the function as diceroll(k=2, n=1000) should return a dictionary like:\n",
    "```\n",
    "{2:19,3:50,4:82,5:112,6:135,7:174,8:133,9:114,10:75,11:70,12:36} \n",
    "```\n",
    "You can use any module from the Python standard library you wish and you should include a description with references of your algorithm in the notebook."
   ]
  },
  {
   "cell_type": "markdown",
   "metadata": {},
   "source": [
    "## Answer\n",
    "-----"
   ]
  },
  {
   "cell_type": "code",
   "execution_count": 50,
   "metadata": {
    "scrolled": false
   },
   "outputs": [],
   "source": [
    "import itertools\n",
    "import random\n",
    "\n",
    "def diceroll(k, n):\n",
    "    '''Counts the total face value of \"k\" dice rolled, repeated \"n\" times.'''\n",
    "    #Creating dictionary keys for all possible results first, as smaller samples might not see a particular combination rolled.\n",
    "    dice_results = {}\n",
    "    \n",
    "    #Using itertools.product to create every possible dictionary key for \"k\" dice.\n",
    "    for dice in itertools.product(range(1, 7), repeat=k):\n",
    "        combination_total = sum(dice)            \n",
    "        if combination_total not in dice_results.keys():\n",
    "            dice_results[combination_total] = 0 \n",
    "    \n",
    "    #Uses random.randrange to roll \"k\" dice, sum the total and add 1 to the corresponding dictionary key.\n",
    "    #Repeated \"n\" times\n",
    "    for i in range(n):\n",
    "        total = 0\n",
    "        for j in range(k):\n",
    "            total += random.randrange(1,7)\n",
    "        dice_results[total] += 1 \n",
    "\n",
    "    #Returns the completed dictionary one one line.    \n",
    "    return print(dice_results)"
   ]
  },
  {
   "cell_type": "code",
   "execution_count": 51,
   "metadata": {},
   "outputs": [
    {
     "name": "stdout",
     "output_type": "stream",
     "text": [
      "{2: 24, 3: 51, 4: 71, 5: 122, 6: 169, 7: 149, 8: 127, 9: 114, 10: 84, 11: 55, 12: 34}\n"
     ]
    }
   ],
   "source": [
    "diceroll(k=2, n=1000)"
   ]
  },
  {
   "cell_type": "markdown",
   "metadata": {},
   "source": [
    "## Approach\n",
    "\n",
    "### Simulating rolling a die\n",
    "\n",
    "The first step to solving this problem is working out how to simulate rolling a die, i.e. picking a random number from 1-6, with each number having an equal chance of being picked. To do this, I will need a pseudorandom number generator, and as has been shown in other assignments and lectures this semester, Numpy.Random would help me here. However, Numpy is not part of the Python Standard Library[1], and so I will have to utilise the Random module. Within the Random module, there is the \"randrange\" function, which will return an integer value. The syntax for this function is as follows[2]:\n",
    "```\n",
    "random.randrange(start, stop[, step])\n",
    "```\n",
    "In this case, I will set the \"start\" value to 1, the \"stop\" value to 7 (as it is not inclusive), and will not enter a \"step\" value. This gives me a function that will randomly pick a number from 1-6, and will act as my die for this problem."
   ]
  },
  {
   "cell_type": "code",
   "execution_count": 16,
   "metadata": {},
   "outputs": [
    {
     "data": {
      "text/plain": [
       "2"
      ]
     },
     "execution_count": 16,
     "metadata": {},
     "output_type": "execute_result"
    }
   ],
   "source": [
    "#Simulating rolling 1 die.\n",
    "random.randrange(1,7)"
   ]
  },
  {
   "cell_type": "markdown",
   "metadata": {},
   "source": [
    "### Rolling multiple dice and saving the totals\n",
    "\n",
    "#### Rolling multiple dice\n",
    "\n",
    "Now that I've successfully simulated rolling one die, I must now replicate that function for each dice that must be rolled. Since the user will be able to specify the number of dice (via the \"k\" parameter), I will need to ensure that the solution scales for any value entered a \"k\".\n",
    "\n",
    "For this, I can make use of the range function[5] with a FOR loop. For example\n",
    "\n",
    "```\n",
    "for i in range(k):\n",
    "    random.randrange(1,7)\n",
    "```\n",
    "    \n",
    "This will mean that regardless of what figure is entered a \"k\", a dice will be rolled that many times. This is because the range function creates a range object \"k\" amount of elements, and the FOR loop will iterate through each. For example, if \"k\" is set to 4, range(4) will create a range object with 4 elements, and thus the FOR loop will run 4 times. When this is combined with the use of randrange(1,7), it'll simulate the rolling of 4 dice.\n",
    "\n",
    "### Saving the totals\n",
    "\n",
    "Now that we have multiple dice being rolled, we must save the total so that we can use it as a dictionary key. In the Geek For Geeks article regarding the range function[5] they include the below example."
   ]
  },
  {
   "cell_type": "code",
   "execution_count": 17,
   "metadata": {},
   "outputs": [
    {
     "name": "stdout",
     "output_type": "stream",
     "text": [
      "Sum of first 10 natural number : 55\n"
     ]
    }
   ],
   "source": [
    "# performing sum of natural \n",
    "# number \n",
    "sum = 0\n",
    "for i in range(1, 11): \n",
    "    sum = sum + i \n",
    "print(\"Sum of first 10 natural number :\", sum) "
   ]
  },
  {
   "cell_type": "markdown",
   "metadata": {},
   "source": [
    "This shows that I can set a variable outside of the FOR loop, and add the generated number to that variable each time. This would give me the total value of the dice rolls. For example:"
   ]
  },
  {
   "cell_type": "code",
   "execution_count": 18,
   "metadata": {},
   "outputs": [],
   "source": [
    "def diceroll(k):\n",
    "    #Creating the \"total\" variable which will have the value of each die roll added to it.\n",
    "    total = 0\n",
    "\n",
    "    #Rolling \"k\" die\n",
    "    for i in range(k):\n",
    "        #Roll a die, and add its value to the \"total\" variable.\n",
    "        total += random.randrange(1,7)\n",
    "\n",
    "    #Returns the completed dictionary.    \n",
    "    return total"
   ]
  },
  {
   "cell_type": "code",
   "execution_count": 19,
   "metadata": {},
   "outputs": [
    {
     "data": {
      "text/plain": [
       "3"
      ]
     },
     "execution_count": 19,
     "metadata": {},
     "output_type": "execute_result"
    }
   ],
   "source": [
    "diceroll(2)"
   ]
  },
  {
   "cell_type": "markdown",
   "metadata": {},
   "source": [
    "I can then combine this with the IF/ELSE statement I used for Problem 1. This will check if the total dice roll is an existing dictionary key. If so, it will increase the count by 1, otherwise it will create a new dictionary key and set the value to 1."
   ]
  },
  {
   "cell_type": "code",
   "execution_count": 39,
   "metadata": {},
   "outputs": [],
   "source": [
    "def diceroll(k):\n",
    "\n",
    "    #Creating the dictionary to store the totals and their frequency.\n",
    "    dice_results = {}\n",
    "\n",
    "    #Creating the \"total\" variable which will have the value of each die roll added to it.\n",
    "    total = 0\n",
    "\n",
    "    #Rolling \"k\" die\n",
    "    for i in range(k):\n",
    "        #Roll a die, and add its value to the \"total\" variable.\n",
    "        total += random.randrange(1,7)\n",
    "\n",
    "    #Checks if the total already exists as a dictionary key. If so, add 1, if not, create it and set value to 0.\n",
    "    if total in dice_results:\n",
    "        dice_results[total] += 1 \n",
    "    else:\n",
    "        dice_results[total] = 1\n",
    "\n",
    "    #Returns the completed dictionary.    \n",
    "    return dice_results"
   ]
  },
  {
   "cell_type": "code",
   "execution_count": 40,
   "metadata": {},
   "outputs": [
    {
     "data": {
      "text/plain": [
       "{7: 1}"
      ]
     },
     "execution_count": 40,
     "metadata": {},
     "output_type": "execute_result"
    }
   ],
   "source": [
    "diceroll(k=3)"
   ]
  },
  {
   "cell_type": "markdown",
   "metadata": {},
   "source": [
    "### Rolling the dice multiple times\n",
    "\n",
    "Now that I have the dice rolls being summed, and the totals being added as a dictionary key, I just need to repeat the rolling of the dice.\n",
    "\n",
    "For this, I can once again utilise the range function, with the user specified \"n\" as the parameter. This will act just like the number of dice rolled (k). As I want each roll of the dice to have a separate title, I must reset the \"total\" variable for each roll."
   ]
  },
  {
   "cell_type": "code",
   "execution_count": 41,
   "metadata": {},
   "outputs": [],
   "source": [
    "def diceroll(k,n):\n",
    "\n",
    "    #Creating the dictionary to store the totals and their frequency.\n",
    "    dice_results = {}\n",
    "\n",
    "    #Rolling the dice \"n\" times\n",
    "    for i in range(n):\n",
    "\n",
    "        #Creating the \"total\" variable which will have the value of each die roll added to it.\n",
    "        total = 0\n",
    "\n",
    "        #Rolling \"k\" die\n",
    "        for j in range(k):\n",
    "            #Roll a die, and add its value to the \"total\" variable.\n",
    "            total += random.randrange(1,7)\n",
    "\n",
    "        #Checks if the total already exists as a dictionary key. If so, add 1, if not, create it and set value to 0.\n",
    "        if total in dice_results:\n",
    "            dice_results[total] += 1 \n",
    "        else:\n",
    "            dice_results[total] = 1\n",
    "\n",
    "    #Returns the completed dictionary.    \n",
    "    return dice_results"
   ]
  },
  {
   "cell_type": "code",
   "execution_count": 43,
   "metadata": {},
   "outputs": [
    {
     "data": {
      "text/plain": [
       "{8: 138,\n",
       " 10: 78,\n",
       " 11: 47,\n",
       " 9: 114,\n",
       " 3: 49,\n",
       " 7: 170,\n",
       " 5: 116,\n",
       " 6: 133,\n",
       " 2: 32,\n",
       " 4: 89,\n",
       " 12: 34}"
      ]
     },
     "execution_count": 43,
     "metadata": {},
     "output_type": "execute_result"
    }
   ],
   "source": [
    "diceroll(k=2, n=1000)"
   ]
  },
  {
   "cell_type": "markdown",
   "metadata": {},
   "source": [
    "### Ensuring all possible totals appear as keys\n",
    "\n",
    "When \"n\" is set to a high number (e.g. the 1000 given in the problem statement), it's expected that all of the possible outcomes will be rolled. This would mean that the dictionary keys include all possible variations and the amount of times it appeared. However, for smaller sample sizes (for example is n=5), there will be possible totals that do not appear. My interpretation of the problem is that in this scenario, the possible total should still exist as a dictionary key, but with the value set to 0.\n",
    "\n",
    "In order to do this, I will first need to get all of the possible totals from \"k\" dice. I was able to find a Stack Overflow question similar to this scenario, which pointed me towards the itertools module[3]. As this module is included in the Python Standard Library[1], I can still use it for this problem.\n",
    "\n",
    "By using the itertools.product function, with range(1,7) and repeat=k as the parameters, I can generate every combination of \"k\" dice. I can then sum those combinations to give me every possible total:\n",
    "```\n",
    "for dice in itertools.product(range(1, 7), repeat=k):\n",
    "        combination = sum(dice)            \n",
    "```\n",
    "I can then use an IF statement to check that that combination's total does not exist as a dictionary key. If the combination's total isn't already a dictionary key, the IF statement will create a new dictionary key for that total with 0 as it's value, otherwise it will skip over it. This is because there's multiple ways to make some of the possible totals (e.g. with 2 dice, there's 6 possible ways to make a total of 7), but I only need 1 of each total as a dictionary key."
   ]
  },
  {
   "cell_type": "code",
   "execution_count": 46,
   "metadata": {},
   "outputs": [],
   "source": [
    "import itertools\n",
    "\n",
    "def diceroll(k):\n",
    "\n",
    "    #Creating the dictionary to store all of the possible totals.\n",
    "    dice_results = {}\n",
    " \n",
    "    #Generates every possible combination of \"k\" sets of 1-6.\n",
    "    for dice in itertools.product(range(1, 7), repeat=k):\n",
    "        \n",
    "        #Sums each of the generated combinations.\n",
    "        combination_total = sum(dice)            \n",
    "        \n",
    "        #If the combination total is not a dictionary key already, it will create one with 0 as the value.\n",
    "        if combination_total not in dice_results.keys():\n",
    "            dice_results[combination_total] = 0         \n",
    "    \n",
    "    #Returns the completed dictionary of possible totals.\n",
    "    return dice_results"
   ]
  },
  {
   "cell_type": "code",
   "execution_count": 47,
   "metadata": {},
   "outputs": [
    {
     "data": {
      "text/plain": [
       "{3: 0,\n",
       " 4: 0,\n",
       " 5: 0,\n",
       " 6: 0,\n",
       " 7: 0,\n",
       " 8: 0,\n",
       " 9: 0,\n",
       " 10: 0,\n",
       " 11: 0,\n",
       " 12: 0,\n",
       " 13: 0,\n",
       " 14: 0,\n",
       " 15: 0,\n",
       " 16: 0,\n",
       " 17: 0,\n",
       " 18: 0}"
      ]
     },
     "execution_count": 47,
     "metadata": {},
     "output_type": "execute_result"
    }
   ],
   "source": [
    "diceroll(k=3)"
   ]
  },
  {
   "cell_type": "markdown",
   "metadata": {},
   "source": [
    "I can now combine this dictionary creation step with my previous FOR loops in order to count their frequency. As I now have every possible combination as a dictionary key already, I can now remove the IF/ELSE statement within the FOR loop."
   ]
  },
  {
   "cell_type": "code",
   "execution_count": 48,
   "metadata": {},
   "outputs": [],
   "source": [
    "import itertools\n",
    "import random\n",
    "\n",
    "def diceroll(k, n):\n",
    "\n",
    "    #Creating the dictionary to store all of the possible totals.\n",
    "    dice_results = {}\n",
    "\n",
    "    #Using itertools.product to create every possible dictionary key for \"k\" dice.\n",
    "    for dice in itertools.product(range(1, 7), repeat=k):\n",
    "        combination_total = sum(dice)            \n",
    "        if combination_total not in dice_results.keys():\n",
    "            dice_results[combination_total] = 0 \n",
    "    \n",
    "    #Uses random.randrange to roll \"k\" dice, sum the total and add 1 to the corresponding dictionary key.\n",
    "    #Repeated \"n\" times\n",
    "    for i in range(n):\n",
    "        total = 0\n",
    "        for j in range(k):\n",
    "            total += random.randrange(1,7)\n",
    "        dice_results[total] += 1 \n",
    "    \n",
    "    #Returns the completed dictionary\n",
    "    return dice_results"
   ]
  },
  {
   "cell_type": "code",
   "execution_count": 49,
   "metadata": {},
   "outputs": [
    {
     "data": {
      "text/plain": [
       "{2: 29,\n",
       " 3: 62,\n",
       " 4: 85,\n",
       " 5: 121,\n",
       " 6: 130,\n",
       " 7: 154,\n",
       " 8: 142,\n",
       " 9: 119,\n",
       " 10: 73,\n",
       " 11: 56,\n",
       " 12: 29}"
      ]
     },
     "execution_count": 49,
     "metadata": {},
     "output_type": "execute_result"
    }
   ],
   "source": [
    "diceroll(k=2, n=1000)"
   ]
  },
  {
   "cell_type": "markdown",
   "metadata": {},
   "source": [
    "Finally, as the problem statement states that the dictionary should be returned on one line, I can use the print function on the dice_results dictionary."
   ]
  },
  {
   "cell_type": "code",
   "execution_count": 52,
   "metadata": {},
   "outputs": [],
   "source": [
    "import itertools\n",
    "import random\n",
    "\n",
    "def diceroll(k, n):\n",
    "\n",
    "    #Creating the dictionary to store all of the possible totals.\n",
    "    dice_results = {}\n",
    "\n",
    "    #Using itertools.product to create every possible dictionary key for \"k\" dice.\n",
    "    for dice in itertools.product(range(1, 7), repeat=k):\n",
    "        combination_total = sum(dice)            \n",
    "        if combination_total not in dice_results.keys():\n",
    "            dice_results[combination_total] = 0 \n",
    "    \n",
    "    #Uses random.randrange to roll \"k\" dice, sum the total and add 1 to the corresponding dictionary key.\n",
    "    #Repeated \"n\" times\n",
    "    for i in range(n):\n",
    "        total = 0\n",
    "        for j in range(k):\n",
    "            total += random.randrange(1,7)\n",
    "        dice_results[total] += 1 \n",
    "    \n",
    "    #Returns the completed dictionary on one line.\n",
    "    return print(dice_results)"
   ]
  },
  {
   "cell_type": "code",
   "execution_count": 53,
   "metadata": {},
   "outputs": [
    {
     "name": "stdout",
     "output_type": "stream",
     "text": [
      "{2: 23, 3: 67, 4: 81, 5: 115, 6: 120, 7: 191, 8: 127, 9: 113, 10: 82, 11: 57, 12: 24}\n"
     ]
    }
   ],
   "source": [
    "diceroll(k=2, n=1000)"
   ]
  },
  {
   "cell_type": "markdown",
   "metadata": {},
   "source": [
    "## References\n",
    "\n",
    "<p>[1] Python; The Python Standard Library; https://docs.python.org/3/library/</p>\n",
    "<p>[2] Python; random - Generate pseudo-random numbers; https://docs.python.org/3/library/random.html</p>\n",
    "<p>[3] Stack Overflow; python itertools: How to roll N dice?;\n",
    "https://stackoverflow.com/questions/39400257/python-itertools-how-to-roll-n-dice</p>\n",
    "<p>[4] Python; itertools — Functions creating iterators for efficient looping; https://docs.python.org/3/library/itertools.html</p>\n",
    "<p>[5] Geeks for Geeks; Python range() function; https://www.geeksforgeeks.org/python-range-function/</p>\n",
    "\n",
    "______"
   ]
  }
 ],
 "metadata": {
  "kernelspec": {
   "display_name": "Python 3",
   "language": "python",
   "name": "python3"
  },
  "language_info": {
   "codemirror_mode": {
    "name": "ipython",
    "version": 3
   },
   "file_extension": ".py",
   "mimetype": "text/x-python",
   "name": "python",
   "nbconvert_exporter": "python",
   "pygments_lexer": "ipython3",
   "version": "3.8.3"
  }
 },
 "nbformat": 4,
 "nbformat_minor": 4
}
