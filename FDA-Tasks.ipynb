{
 "cells": [
  {
   "cell_type": "markdown",
   "metadata": {},
   "source": [
    "# Fundamentals of Data Analysis\n",
    "## Tasks\n",
    "\n",
    "This Jupyter Notebook contains Brian Doheny's solutions to the problems for the Fundamentals of Data Analysis 2020 tasks assignment.\n",
    "\n",
    "For each task, you will find the problem statement provided to us, followed directly by my final program. Below this you will find a detailed outline of my approach, which will walk you through how I got to that final program, and what resources I have used.\n",
    "\n",
    "* [Task 1](#task1)\n",
    "* [Task 2](#task2)\n",
    "* [Task 3](#task3)\n",
    "* [Task 4](#task4)\n",
    "\n",
    "Before we continue, we will import the libraries that will be required to run my solutions to the problems outlined in each task."
   ]
  },
  {
   "cell_type": "code",
   "execution_count": 1,
   "metadata": {},
   "outputs": [],
   "source": [
    "#Importing the packages I will need for all four tasks.\n",
    "\n",
    "#Problem 2 packages\n",
    "import itertools\n",
    "import random\n",
    "\n",
    "#Problem 3 packages\n",
    "import numpy as np\n",
    "import seaborn as sns\n",
    "import matplotlib.pyplot as plt\n",
    "\n",
    "#Problem 4 packages\n",
    "from numpy.random import default_rng"
   ]
  },
  {
   "cell_type": "markdown",
   "metadata": {},
   "source": [
    "<a id='task1'></a>\n",
    "# Task 1\n",
    "\n",
    "## Problem\n",
    "Write a Python function called counts that takes a list as input and returns a dictionary of unique items in the list as keys and the number of times each item appears as values. So, the input ['A', 'A', 'B', 'C', 'A'] should have output {'A': 3, 'B': 1, 'C': 1} . Your code should not depend on any module from the standard library or otherwise. You should research the task first and include a description with references of your algorithm in the notebook."
   ]
  },
  {
   "cell_type": "markdown",
   "metadata": {},
   "source": [
    "## Solution\n",
    "----"
   ]
  },
  {
   "cell_type": "code",
   "execution_count": 4,
   "metadata": {},
   "outputs": [],
   "source": [
    "def counts(items):\n",
    "    '''Takes a list as input, and produces a dictionary containing the unique contents of the list, \n",
    "    and the number of times it appeared in the list'''\n",
    "    #Create an empty dictionary to store the results.\n",
    "    results = {}\n",
    "    \n",
    "    #Defining a function to check if the next item is a list.\n",
    "    def count_list(item):\n",
    "        '''Checks if the list item is itself a list. \n",
    "        If it is a list, it will check if the next item of that list is itself a list.\n",
    "        It will keep doing this until it finds an element that is not a list.\n",
    "        A this point it will call count_item on that element.'''\n",
    "        for sub_item in item:\n",
    "            #If the sub item is itself a list, it will call count_list again. \n",
    "            #No matter how many nested lists there are, it will iterate through all them.\n",
    "            if type(sub_item) == list: \n",
    "                count_list(sub_item)\n",
    "            #If the sub item is not a list, it'll just run the count_item function defined below.\n",
    "            else:\n",
    "                count_item(sub_item)\n",
    "    \n",
    "    #Because count_list iterates through a list, it'll throw an error if it were to encounter an uniterable object\n",
    "    #For example, a string. I need a second inner function specifically for uniterable objects.\n",
    "    #These will be the dictionary keys.\n",
    "    def count_item(item):\n",
    "        '''Checks if the list item already exists as a dictionary key. If it does, it will add 1 to its value.\n",
    "        If it does not exist as a dictionary key, it will create a new key for that item, and set the value to 1'''\n",
    "        if item in results:\n",
    "            results[item] += 1 \n",
    "        else:\n",
    "            results[item] = 1\n",
    "    \n",
    "    #Finally, this FOR loop will go through the initial list (the items parameter). \n",
    "    #If the item within the list is itself a list, That item will go through the count_list inner function. \n",
    "    #Otherwise it goes through count_item.\n",
    "    for item in items:\n",
    "        if type(item) == list: \n",
    "            count_list(item)\n",
    "        else:\n",
    "             count_item(item)\n",
    "        \n",
    "    return results            "
   ]
  },
  {
   "cell_type": "code",
   "execution_count": 5,
   "metadata": {},
   "outputs": [
    {
     "data": {
      "text/plain": [
       "{'A': 3, 'B': 1, 'C': 1}"
      ]
     },
     "execution_count": 5,
     "metadata": {},
     "output_type": "execute_result"
    }
   ],
   "source": [
    "test = ['A', 'A', 'B', 'C', 'A']\n",
    "counts(test)"
   ]
  },
  {
   "cell_type": "markdown",
   "metadata": {},
   "source": [
    "## Approach\n",
    "----"
   ]
  },
  {
   "cell_type": "markdown",
   "metadata": {},
   "source": [
    "### Checking for Dictionary keys\n",
    "\n",
    "As the program must return a dictionary of the unique items in the list, alongside how frequently they appear as value, we must first ensure we know how to iterate over a dictionary's keys. This will allow us to check if a list item already exists as a key, and so our program can take the necessary next step; create a new key for the new item, or update the value for the existing key if it is a duplicate item.\n",
    "\n",
    "This can be done by using a Dictionary Membership Test[6], which will return a boolean (True or False) depending on whether or not the variable already exists in the dictionary. The syntax for a dictionary membership test is simply:\n",
    "```\n",
    "variable in dictionary\n",
    "```\n",
    "or alternatively you can check if a key does not already exist in the dictionary by using:\n",
    "```\n",
    "variable not in dictionary\n",
    "```\n",
    "With this membership test, we can then use a straightforward If/Else statement to determine whether or not a new key must be created, or if an existing key needs its value altered[2][3]:\n",
    "```\n",
    "if variable in dictionary:\n",
    "    dictionary[variable] += 1\n",
    "else:\n",
    "    dictionary[variable] = 1\n",
    "```\n",
    "This gives us a fairly straightforward initial solution:"
   ]
  },
  {
   "cell_type": "code",
   "execution_count": 3,
   "metadata": {},
   "outputs": [],
   "source": [
    "# Define the test list, as offered in the problem.\n",
    "test = ['A', 'A', 'B', 'C', 'A']"
   ]
  },
  {
   "cell_type": "code",
   "execution_count": 4,
   "metadata": {},
   "outputs": [],
   "source": [
    "def counts(items):\n",
    "    '''Takes a list as input, and produces a dictionary containing the unique contents of the list, \n",
    "    and the number of times it appeared in the list'''\n",
    "    \n",
    "    #Create an empty dictionary to store the results.\n",
    "    results = {}\n",
    "    \n",
    "    #Iterate over the list items, and see if a key already exists.\n",
    "    for item in items:\n",
    "        if item in results:\n",
    "            results[item] += 1 \n",
    "        else:\n",
    "            results[item] = 1\n",
    "    #Return the completed dictionary.\n",
    "    return results       "
   ]
  },
  {
   "cell_type": "code",
   "execution_count": 5,
   "metadata": {},
   "outputs": [
    {
     "data": {
      "text/plain": [
       "{'A': 3, 'B': 1, 'C': 1}"
      ]
     },
     "execution_count": 5,
     "metadata": {},
     "output_type": "execute_result"
    }
   ],
   "source": [
    "counts(test)"
   ]
  },
  {
   "cell_type": "markdown",
   "metadata": {},
   "source": [
    "### Nested lists and how to deal with them\n",
    "\n",
    "While the example list included in the problem statement doesn't contain any nested lists, they are something that the program might encounter in the real world. Therefore it's important to find a solution for this now, and one that will ideally scale with the program.\n",
    "\n",
    "As lists are a hashable data type (i.e. they can altered), they cannot be used as a dictionary key, as outlined in the Python Data Structure documentation[4]:\n",
    "\n",
    "```Unlike sequences, which are indexed by a range of numbers, dictionaries are indexed by keys, which can be any immutable type; strings and numbers can always be keys. Tuples can be used as keys if they contain only strings, numbers, or tuples; if a tuple contains any mutable object either directly or indirectly, it cannot be used as a key. You can’t use lists as keys, since lists can be modified in place using index assignments, slice assignments, or methods like append() and extend().```\n",
    "\n",
    "This therefore opens up two potential solutions - change the nested list to a tuple, or find a way to iterate over the nested lists.\n",
    "\n",
    "#### Converting a nested list into a tuple\n",
    "\n",
    "Converting the inner list into a tuple, and using that as the key is a straightforward solution. The FOR loop would just need to check the type of the next item it's iterating through, and if it's a list, convert that item to a tuple:\n",
    "```\n",
    "if type(list[item]) == list:\n",
    "    item = tuple(item)\n",
    "```\n",
    "However, this would encounter an issue if there's yet another list within this second layer of lists. The Python Data Structure[4] documentation explicitly says that if the \"tuple contains a mutable object\" (in this case a list) \"either directly or indirectly, it cannot be used as a key\". Therefore the additional nested list will prevent this solution from working in all situations. Alongside this, tuples as keys might not be the ideal real world solution anyway, as it opens up the possibility of lengthy dictionary keys that may not serve much purpose for analysis. \n",
    "\n",
    "If we were to follow this path, it would look something like this: "
   ]
  },
  {
   "cell_type": "code",
   "execution_count": 6,
   "metadata": {},
   "outputs": [],
   "source": [
    "def counts(items):\n",
    "    '''Takes a list as input, and produces a dictionary containing the unique contents of the list, \n",
    "    and the number of times it appeared in the list'''\n",
    "    \n",
    "    #Create an empty dictionary to store the results.\n",
    "    results = {}\n",
    "    \n",
    "    #Turning the list into a tuple lets us add it as a dictionary key.\n",
    "    #We would need to check that the item is a list before we go through the dictionary keys.\n",
    "    for item in items:\n",
    "        if type(item) == list: #check if the next item is a list.\n",
    "            item = tuple(item) #if so, change it to be a tuple.\n",
    "        else:\n",
    "            pass\n",
    "        \n",
    "        #Once any lists are changed to tuples, we can see if they already exist in the dictionary keys.\n",
    "        if item in results.keys():\n",
    "            results[item] += 1 \n",
    "        else:\n",
    "            results[item] = 1 \n",
    "   \n",
    "    #Return the completed dictionary.\n",
    "    return results        "
   ]
  },
  {
   "cell_type": "code",
   "execution_count": 7,
   "metadata": {},
   "outputs": [
    {
     "data": {
      "text/plain": [
       "{1: 7,\n",
       " 5: 2,\n",
       " 17: 2,\n",
       " 82: 2,\n",
       " 91: 2,\n",
       " 'horse': 2,\n",
       " 'cow': 2,\n",
       " 'cheese': 3,\n",
       " 47.7777: 1,\n",
       " 15: 1,\n",
       " 81: 1,\n",
       " ('another', 'list', 'in', 'the', 'list', 77): 1}"
      ]
     },
     "execution_count": 7,
     "metadata": {},
     "output_type": "execute_result"
    }
   ],
   "source": [
    "# Create a list containing a list to test this approach.\n",
    "bigtest = [1, 5, 17, 82, 91, 'horse', 'cow', 'cheese', 47.7777, 1, 1, 1, 1, 1, 5, 17, 1, 82, 91, 'horse',\n",
    "           'cow', 'cheese', 15, 81, 'cheese', ['another', 'list', 'in', 'the', 'list', 77]]\n",
    "\n",
    "counts(bigtest)"
   ]
  },
  {
   "cell_type": "code",
   "execution_count": 8,
   "metadata": {},
   "outputs": [
    {
     "ename": "TypeError",
     "evalue": "unhashable type: 'list'",
     "output_type": "error",
     "traceback": [
      "\u001b[0;31m---------------------------------------------------------------------------\u001b[0m",
      "\u001b[0;31mTypeError\u001b[0m                                 Traceback (most recent call last)",
      "\u001b[0;32m<ipython-input-8-352c55a82312>\u001b[0m in \u001b[0;36m<module>\u001b[0;34m\u001b[0m\n\u001b[1;32m      3\u001b[0m \u001b[0mlists_in_lists\u001b[0m \u001b[0;34m=\u001b[0m \u001b[0;34m[\u001b[0m\u001b[0;36m1\u001b[0m\u001b[0;34m,\u001b[0m \u001b[0;36m2\u001b[0m\u001b[0;34m,\u001b[0m \u001b[0;36m3\u001b[0m\u001b[0;34m,\u001b[0m \u001b[0;34m[\u001b[0m\u001b[0;36m1\u001b[0m\u001b[0;34m,\u001b[0m \u001b[0;36m2\u001b[0m\u001b[0;34m,\u001b[0m \u001b[0;36m3\u001b[0m\u001b[0;34m,\u001b[0m \u001b[0;36m27.124\u001b[0m\u001b[0;34m,\u001b[0m \u001b[0;34m[\u001b[0m\u001b[0;36m1\u001b[0m\u001b[0;34m,\u001b[0m \u001b[0;36m2\u001b[0m\u001b[0;34m,\u001b[0m \u001b[0;36m3\u001b[0m\u001b[0;34m,\u001b[0m \u001b[0;34m'hi'\u001b[0m\u001b[0;34m,\u001b[0m \u001b[0;34m[\u001b[0m\u001b[0;34m[\u001b[0m\u001b[0;36m1\u001b[0m\u001b[0;34m,\u001b[0m\u001b[0;34m[\u001b[0m\u001b[0;36m1\u001b[0m\u001b[0;34m,\u001b[0m \u001b[0;34m'hello'\u001b[0m\u001b[0;34m]\u001b[0m\u001b[0;34m,\u001b[0m \u001b[0;36m2\u001b[0m\u001b[0;34m,\u001b[0m \u001b[0;36m3\u001b[0m\u001b[0;34m]\u001b[0m\u001b[0;34m,\u001b[0m \u001b[0;36m1\u001b[0m\u001b[0;34m,\u001b[0m \u001b[0;36m2\u001b[0m\u001b[0;34m,\u001b[0m \u001b[0;36m3\u001b[0m\u001b[0;34m]\u001b[0m\u001b[0;34m]\u001b[0m\u001b[0;34m]\u001b[0m\u001b[0;34m]\u001b[0m\u001b[0;34m\u001b[0m\u001b[0;34m\u001b[0m\u001b[0m\n\u001b[1;32m      4\u001b[0m \u001b[0;34m\u001b[0m\u001b[0m\n\u001b[0;32m----> 5\u001b[0;31m \u001b[0mcounts\u001b[0m\u001b[0;34m(\u001b[0m\u001b[0mlists_in_lists\u001b[0m\u001b[0;34m)\u001b[0m\u001b[0;34m\u001b[0m\u001b[0;34m\u001b[0m\u001b[0m\n\u001b[0m",
      "\u001b[0;32m<ipython-input-6-c8ef8665f55a>\u001b[0m in \u001b[0;36mcounts\u001b[0;34m(items)\u001b[0m\n\u001b[1;32m     16\u001b[0m \u001b[0;34m\u001b[0m\u001b[0m\n\u001b[1;32m     17\u001b[0m         \u001b[0;31m#Once any lists are changed to tuples, we can see if they already exist in the dictionary keys.\u001b[0m\u001b[0;34m\u001b[0m\u001b[0;34m\u001b[0m\u001b[0;34m\u001b[0m\u001b[0m\n\u001b[0;32m---> 18\u001b[0;31m         \u001b[0;32mif\u001b[0m \u001b[0mitem\u001b[0m \u001b[0;32min\u001b[0m \u001b[0mresults\u001b[0m\u001b[0;34m.\u001b[0m\u001b[0mkeys\u001b[0m\u001b[0;34m(\u001b[0m\u001b[0;34m)\u001b[0m\u001b[0;34m:\u001b[0m\u001b[0;34m\u001b[0m\u001b[0;34m\u001b[0m\u001b[0m\n\u001b[0m\u001b[1;32m     19\u001b[0m             \u001b[0mresults\u001b[0m\u001b[0;34m[\u001b[0m\u001b[0mitem\u001b[0m\u001b[0;34m]\u001b[0m \u001b[0;34m+=\u001b[0m \u001b[0;36m1\u001b[0m\u001b[0;34m\u001b[0m\u001b[0;34m\u001b[0m\u001b[0m\n\u001b[1;32m     20\u001b[0m         \u001b[0;32melse\u001b[0m\u001b[0;34m:\u001b[0m\u001b[0;34m\u001b[0m\u001b[0;34m\u001b[0m\u001b[0m\n",
      "\u001b[0;31mTypeError\u001b[0m: unhashable type: 'list'"
     ]
    }
   ],
   "source": [
    "# If there is yet another level of lists, it will receive an error: \"TypeError: unhashable type: 'list'\"\n",
    "\n",
    "lists_in_lists = [1, 2, 3, [1, 2, 3, 27.124, [1, 2, 3, 'hi', [[1,[1, 'hello'], 2, 3], 1, 2, 3]]]]\n",
    "\n",
    "#counts(lists_in_lists)"
   ]
  },
  {
   "cell_type": "markdown",
   "metadata": {},
   "source": [
    "#### Iterating over nested lists.\n",
    "\n",
    "A more scalable and potentially useful solution is to iterate over any nested lists too. This will involve checking the data type of the next list item, and if it is a list, running the FOR loop again. This seems to be the most likely solution, as it will allow the program to count every individual item in every list. A program that can unpack nested lists could be used for counting the frequency of words in files or when scraping websites, and so has a real world use case. I am therefore interpreting this as the desired outcome for this problem.\n",
    "\n",
    "However in order to do this, I must find a way to repeat the FOR loop as many times as necessary, ideally without having to repeat my code over and over again. \n",
    "\n",
    "### Nested Functions and DRY[7]\n",
    "\n",
    "If I were to rely solely on FOR loops, I would require a loop for every level of nested list. As I do not know what lists this program will be used for, I therefore cannot estimate how many I would need. Should I include a dozen nested FOR loops? Will that cover every necessity? \n",
    "\n",
    "Obviously in such a situation my code would be unnecessarily repetitive in most scenarios, and not repetitive enough in others. I had to find a way to reuse my original FOR loop for updating the dictionary keys, without having to repeat that code endlessly, and fortunately Python has just the tool I need - nested functions[5]. This will ensure that my code is DRY - Don't Repeat Yourself[7].\n",
    "\n",
    "By defining my initial FOR loop as a nested function, I will be able call it as many times as I need without having to repeat those 5 lines of code each time. Better yet, as this function is nested within the counts() function, it can make use of the same input parameters as were provided when the counts() function was called. Similarly, if I am using a nested function for the dictionary keys FOR loop, I could also use one for the FOR loop which checks if the next list item is of list type itself.\n"
   ]
  },
  {
   "cell_type": "code",
   "execution_count": 9,
   "metadata": {},
   "outputs": [],
   "source": [
    "def counts(items):\n",
    "    '''Takes a list as input, and produces a dictionary containing the unique contents of the list, \n",
    "    and the number of times it appeared in the list'''\n",
    "    #Create an empty dictionary to store the results.\n",
    "    results = {}\n",
    "    \n",
    "    #Defining a function to check if the next item is a list.\n",
    "    def count_list(item):\n",
    "        '''Checks if the list item is itself a list. \n",
    "        If it is a list, it will check if the next item of that list is itself a list.\n",
    "        It will keep doing this until it finds an element that is not a list.\n",
    "        A this point it will call count_item on that element.'''\n",
    "        for sub_item in item:\n",
    "            #If the sub item is itself a list, it will call count_list again. \n",
    "            #This means no matter how many nested lists there are, it will iterate through all them.\n",
    "            if type(sub_item) == list: \n",
    "                count_list(sub_item)\n",
    "            #If the sub item is not a list, then it'll just run the count_item function defined below.\n",
    "            else:\n",
    "                count_item(sub_item)\n",
    "    \n",
    "    #Because count_list iterates through a list, it'll throw an error if it were to encounter an uniterable object\n",
    "    #For example, a string. Therefore I need a second inner function specifically for uniterable objects.\n",
    "    #These will be the dictionary keys.\n",
    "    def count_item(item):\n",
    "        '''Checks if the list item already exists as a dictionary key. If it does, it will add 1 to its value.\n",
    "        If it does not exist as a dictionary key, it will create a new key for that item, and set the value to 1'''\n",
    "        if item in results:\n",
    "            results[item] += 1 \n",
    "        else:\n",
    "            results[item] = 1\n",
    "    \n",
    "    #Finally, this FOR loop will go through the initial list (the items parameter). \n",
    "    #If the item within the list is itself a list, That item will go through the count_list inner function. \n",
    "    #Otherwise it goes through count_item.\n",
    "    for item in items:\n",
    "        if type(item) == list: \n",
    "            count_list(item)\n",
    "        else:\n",
    "             count_item(item)\n",
    "        \n",
    "    return results            "
   ]
  },
  {
   "cell_type": "code",
   "execution_count": 10,
   "metadata": {},
   "outputs": [
    {
     "data": {
      "text/plain": [
       "{1: 6, 2: 5, 3: 5, 27.124: 1, 'hi': 1, 'hello': 1}"
      ]
     },
     "execution_count": 10,
     "metadata": {},
     "output_type": "execute_result"
    }
   ],
   "source": [
    "#This version will now work with lists nested at multiple levels.\n",
    "counts(lists_in_lists)"
   ]
  },
  {
   "cell_type": "markdown",
   "metadata": {},
   "source": [
    "### Other considerations\n",
    "\n",
    "The above function does what is requested within the problem statement, and will work no matter what list is provided. That said, there are potentially other additions that can be included in the answer for this. For example, how should this program deal with strings that contain the same letters, but different combinations of capitalized letters?\n",
    "\n",
    "For example, let's say our list contains two strings (among many): \n",
    "* \"DRY\" (the above mentioned \"Don't Repeat Yourself\" acronym), \n",
    "* \"dry\" (to mean lacking moisture)\n",
    "\n",
    "If I wish for my program to count the frequency of combinations of letters, then I would want these two to be treated exactly the same, and so they should both contribute to the same count. \n",
    "\n",
    "However, if I am looking to capture the content and meaning of the strings in the list, then I would want them to be counted separately, and perhaps later combine their totals if it made sense.\n",
    "\n",
    "The program above would follow the first of these approaches - treating these two words as fundamentally different, and therefore each having its own count. However, if we did wish to treat the two words as being the same, we could add an IF statement as the first step in the count_item function. Like so:\n",
    "```\n",
    " def count_item(item):\n",
    "      \n",
    "        if type(item) == str:\n",
    "            item = item.lower()\n",
    "            \n",
    "        if item in results:\n",
    "            results[item] += 1 \n",
    "        else:\n",
    "            results[item] = 1\n",
    "```"
   ]
  },
  {
   "cell_type": "code",
   "execution_count": 11,
   "metadata": {},
   "outputs": [],
   "source": [
    "def counts(items):\n",
    "    '''Takes a list as input, and produces a dictionary containing the unique contents of the list, \n",
    "    and the number of times it appeared in the list'''\n",
    "    #Create an empty dictionary to store the results.\n",
    "    results = {}\n",
    "    \n",
    "    #Defining a function to check if the next item is a list.\n",
    "    def count_list(item):\n",
    "        '''Checks if the list item is itself a list. \n",
    "        If it is a list, it will check if the next item of that list is itself a list.\n",
    "        It will keep doing this until it finds an element that is not a list.\n",
    "        A this point it will call count_item on that element.'''\n",
    "        for sub_item in item:\n",
    "            #If the sub item is itself a list, it will call count_list again. \n",
    "            #This means no matter how many nested lists there are, it will iterate through all them.\n",
    "            if type(sub_item) == list: \n",
    "                count_list(sub_item)\n",
    "            #If the sub item is not a list, then it'll just run the count_item function defined below.\n",
    "            else:\n",
    "                count_item(sub_item)\n",
    "    \n",
    "    #Because count_list iterates through a list, it'll throw an error if it were to encounter an uniterable object\n",
    "    #For example, a string. Therefore I need a second inner function specifically for uniterable objects.\n",
    "    #These will be the dictionary keys.\n",
    "    def count_item(item):\n",
    "        '''If the list item is a string, it'll convert it to lower case.\n",
    "        Then checks if the list item already exists as a dictionary key. If it does, it will add 1 to its value.\n",
    "        If it does not exist as a dictionary key, it will create a new key for that item, and set the value to 1'''\n",
    "        if type(item) == str:\n",
    "            item = item.lower()\n",
    "            \n",
    "        if item in results:\n",
    "            results[item] += 1 \n",
    "        else:\n",
    "            results[item] = 1\n",
    "    \n",
    "    #Finally, this FOR loop will go through the initial list (the items parameter). \n",
    "    #If the item within the list is itself a list, That item will go through the count_list inner function. \n",
    "    #Otherwise it goes through count_item.\n",
    "    for item in items:\n",
    "        if type(item) == list: \n",
    "            count_list(item)\n",
    "        else:\n",
    "             count_item(item)\n",
    "        \n",
    "    return results            "
   ]
  },
  {
   "cell_type": "code",
   "execution_count": 12,
   "metadata": {},
   "outputs": [
    {
     "data": {
      "text/plain": [
       "{'dry': 5}"
      ]
     },
     "execution_count": 12,
     "metadata": {},
     "output_type": "execute_result"
    }
   ],
   "source": [
    "dry_list = ['dry', 'DRY', ['dry', 'DrY', 'DRY']]\n",
    "\n",
    "counts(dry_list)"
   ]
  },
  {
   "cell_type": "markdown",
   "metadata": {},
   "source": [
    "Similar to this, we could also use the strip() method on any strings to remove trailing spaces.\n",
    "\n",
    "As my interpretation of the problem is to treat these two variations, \"dry\" and \"DRY\" as being unique, I have not included this additional IF statement in my final answer (found at the top)."
   ]
  },
  {
   "cell_type": "markdown",
   "metadata": {},
   "source": [
    "# Task 1 Resources\n",
    "\n",
    "<p>[1] Ramos, P., L., 2019, How to Iterate Through a Dictionary in Python [online], available from: https://realpython.com/iterate-through-dictionary-python/</p>\n",
    "<p>[2] Gallagher, J., 2020, Python Add to Dictionary: A Guide [online], available from: https://careerkarma.com/blog/python-add-to-dictionary/</p>\n",
    "<p>[3] manjeet_04, 2019, Python | Get specific keys' values [online], available from:   https://www.geeksforgeeks.org/python-get-specific-keys-values/?ref=rp</p>\n",
    "<p>[4] Python, 2020 [online], available from: https://docs.python.org/3/tutorial/datastructures.html#dictionaries [Accessed 12 December 2020]</p>\n",
    "<p>[5] Santos, A., Kearney, D., Jablonski, J., Herman, M.; Python Inner Functions—What Are They Good For? [online], available from: https://realpython.com/inner-functions-what-are-they-good-for/ </p>\n",
    "<p>[6] Programiz, 2020 [online], available from: https://www.programiz.com/python-programming/dictionary [Accessed 12 December 2020]</p>\n",
    "<p>[7] Wikipedia, Don't repeat yourself, https://en.wikipedia.org/wiki/Don%27t_repeat_yourself [Accessed 12 December 2020]\n",
    "______"
   ]
  },
  {
   "cell_type": "markdown",
   "metadata": {},
   "source": [
    "<a id='task2'></a>\n",
    "\n",
    "# Task 2\n",
    "\n",
    "## Problem\n",
    "Write a Python function called dicerolls that simulates rolling dice. Your function should take two parameters: the number of dice k and the number of times to roll the dice n. The function should simulate randomly rolling k dice n times, keeping track of each total face value. It should then return a dictionary with the number of times each possible total face value occurred. So, calling the function as diceroll(k=2, n=1000) should return a dictionary like:\n",
    "```\n",
    "{2:19,3:50,4:82,5:112,6:135,7:174,8:133,9:114,10:75,11:70,12:36} \n",
    "```\n",
    "You can use any module from the Python standard library you wish and you should include a description with references of your algorithm in the notebook."
   ]
  },
  {
   "cell_type": "markdown",
   "metadata": {},
   "source": [
    "## Solution\n",
    "-----"
   ]
  },
  {
   "cell_type": "code",
   "execution_count": 13,
   "metadata": {
    "scrolled": false
   },
   "outputs": [],
   "source": [
    "def diceroll(k, n):\n",
    "    '''Counts the total face value of \"k\" dice rolled, repeated \"n\" times.'''\n",
    "    #Creating dictionary keys for all possible results first, as smaller samples might not see a particular combination rolled.\n",
    "    dice_results = {}\n",
    "    \n",
    "    #Using itertools.product to create every possible dictionary key for \"k\" dice.\n",
    "    for dice in itertools.product(range(1, 7), repeat=k):\n",
    "        combination_total = sum(dice)            \n",
    "        if combination_total not in dice_results.keys():\n",
    "            dice_results[combination_total] = 0 \n",
    "    \n",
    "    #This uses random.randrange to roll \"k\" dice, sum the total and add 1 to the corresponding dictionary key.\n",
    "    #Repeated \"n\" times\n",
    "    for i in range(n):\n",
    "        total = 0\n",
    "        for j in range(k):\n",
    "            total += random.randrange(1,7)\n",
    "        dice_results[total] += 1 \n",
    "\n",
    "    #Returns the completed dictionary one one line.    \n",
    "    return print(dice_results)"
   ]
  },
  {
   "cell_type": "code",
   "execution_count": 14,
   "metadata": {},
   "outputs": [
    {
     "name": "stdout",
     "output_type": "stream",
     "text": [
      "{2: 33, 3: 66, 4: 95, 5: 113, 6: 122, 7: 161, 8: 135, 9: 116, 10: 79, 11: 56, 12: 24}\n"
     ]
    }
   ],
   "source": [
    "diceroll(k=2, n=1000)"
   ]
  },
  {
   "cell_type": "markdown",
   "metadata": {},
   "source": [
    "## Approach\n",
    "\n",
    "### Simulating rolling a die\n",
    "\n",
    "The first step to solving this problem is working out how to simulate rolling a die, i.e. picking a random number from 1-6, with each number having an equal chance of being picked. To do this, I will need a pseudorandom number generator, and as has been shown in other assignments and lectures this semester, Numpy.Random would help me here. However, Numpy is not part of the Python Standard Library[1], and so I will have to utilise the Random module. Within the Random module, there is the \"randrange\" function, which will return an integer value. The syntax for this function is as follows[2]:\n",
    "```\n",
    "random.randrange(start, stop[, step])\n",
    "```\n",
    "In this case, I will set the \"start\" value to 1, the \"stop\" value to 7 (as it is not inclusive), and will not enter a \"step\" value. This gives me a function that will randomly pick a number from 1-6, and will act as my die for this problem."
   ]
  },
  {
   "cell_type": "code",
   "execution_count": 15,
   "metadata": {},
   "outputs": [
    {
     "data": {
      "text/plain": [
       "4"
      ]
     },
     "execution_count": 15,
     "metadata": {},
     "output_type": "execute_result"
    }
   ],
   "source": [
    "#Simulating rolling 1 die.\n",
    "random.randrange(1,7)"
   ]
  },
  {
   "cell_type": "markdown",
   "metadata": {},
   "source": [
    "### Rolling multiple dice and saving the totals\n",
    "\n",
    "#### Rolling multiple dice\n",
    "\n",
    "Now that I've successfully simulated rolling one die, I must now replicate that function for each die that must be rolled. Since the user will be able to specify the number of dice (via the \"k\" parameter), I will need to ensure that the solution scales for any value entered as\n",
    "\"k\".\n",
    "\n",
    "For this, I can make use of the range function[5] with a FOR loop. For example\n",
    "\n",
    "```\n",
    "for i in range(k):\n",
    "    random.randrange(1,7)\n",
    "```\n",
    "    \n",
    "This will mean that regardless of what figure is entered as \"k\", a dice will be rolled that many times. This is because the range function creates a range object with \"k\" amount of elements, and the FOR loop will iterate through each. For example, if \"k\" is set to 4, range(4) will create a range object with 4 elements, and thus the FOR loop will run 4 times. When this is combined with the use of randrange(1,7), it'll simulate the rolling of 4 dice.\n",
    "\n",
    "### Saving the totals\n",
    "\n",
    "Now that we have multiple dice being rolled, we must save the total so that we can use it as a dictionary key. In the Geek For Geeks article regarding the range function[5] they include the below example."
   ]
  },
  {
   "cell_type": "code",
   "execution_count": 16,
   "metadata": {},
   "outputs": [
    {
     "name": "stdout",
     "output_type": "stream",
     "text": [
      "Sum of first 10 natural number : 55\n"
     ]
    }
   ],
   "source": [
    "# performing sum of natural \n",
    "# number \n",
    "sum = 0\n",
    "for i in range(1, 11): \n",
    "    sum = sum + i \n",
    "print(\"Sum of first 10 natural number :\", sum) "
   ]
  },
  {
   "cell_type": "markdown",
   "metadata": {},
   "source": [
    "This shows that I can set a variable outside of the FOR loop, and add the generated number to that variable each time. This would give me the total value of the dice rolls. For example:"
   ]
  },
  {
   "cell_type": "code",
   "execution_count": 17,
   "metadata": {},
   "outputs": [],
   "source": [
    "def diceroll(k):\n",
    "    #Creating the \"total\" variable which will have the value of each die roll added to it.\n",
    "    total = 0\n",
    "\n",
    "    #Rolling \"k\" die\n",
    "    for i in range(k):\n",
    "        #Roll a die, and add its value to the \"total\" variable.\n",
    "        total += random.randrange(1,7)\n",
    "\n",
    "    #Returns the completed dictionary.    \n",
    "    return total"
   ]
  },
  {
   "cell_type": "code",
   "execution_count": 18,
   "metadata": {},
   "outputs": [
    {
     "data": {
      "text/plain": [
       "7"
      ]
     },
     "execution_count": 18,
     "metadata": {},
     "output_type": "execute_result"
    }
   ],
   "source": [
    "diceroll(2)"
   ]
  },
  {
   "cell_type": "markdown",
   "metadata": {},
   "source": [
    "I can then combine this with the IF/ELSE statement I used for Problem 1. This will check if the total dice roll is an existing dictionary key. If so, it will increase the count by 1, otherwise it will create a new dictionary key and set the value to 1."
   ]
  },
  {
   "cell_type": "code",
   "execution_count": 19,
   "metadata": {},
   "outputs": [],
   "source": [
    "def diceroll(k):\n",
    "\n",
    "    #Creating the dictionary to store the totals and their frequency.\n",
    "    dice_results = {}\n",
    "\n",
    "    #Creating the \"total\" variable which will have the value of each die roll added to it.\n",
    "    total = 0\n",
    "\n",
    "    #Rolling \"k\" die\n",
    "    for i in range(k):\n",
    "        #Roll a die, and add its value to the \"total\" variable.\n",
    "        total += random.randrange(1,7)\n",
    "\n",
    "    #Checks if the total already exists as a dictionary key. If so, add 1, if not, create it and set value to 0.\n",
    "    if total in dice_results:\n",
    "        dice_results[total] += 1 \n",
    "    else:\n",
    "        dice_results[total] = 1\n",
    "\n",
    "    #Returns the completed dictionary.    \n",
    "    return dice_results"
   ]
  },
  {
   "cell_type": "code",
   "execution_count": 20,
   "metadata": {},
   "outputs": [
    {
     "data": {
      "text/plain": [
       "{14: 1}"
      ]
     },
     "execution_count": 20,
     "metadata": {},
     "output_type": "execute_result"
    }
   ],
   "source": [
    "diceroll(k=3)"
   ]
  },
  {
   "cell_type": "markdown",
   "metadata": {},
   "source": [
    "### Rolling the dice multiple times\n",
    "\n",
    "Now that I have the dice rolls being summed, and the totals being added as a dictionary key, I just need to repeat the rolling of the dice.\n",
    "\n",
    "For this, I can once again utilise the range function, with the user specified \"n\" as the parameter. This will act just like the number of dice rolled (k). As I want each roll of the dice to have a separate total, I must reset the \"total\" variable for each roll. I can do this by setting the value of \"total\" to zero before the second FOR loop starts. That way, it will carry out the rolling of \"k\" dice with a fresh \"total\"."
   ]
  },
  {
   "cell_type": "code",
   "execution_count": 21,
   "metadata": {},
   "outputs": [],
   "source": [
    "def diceroll(k,n):\n",
    "\n",
    "    #Creating the dictionary to store the totals and their frequency.\n",
    "    dice_results = {}\n",
    "\n",
    "    #Rolling the dice \"n\" times\n",
    "    for i in range(n):\n",
    "\n",
    "        #Creating the \"total\" variable which will have the value of each die roll added to it.\n",
    "        total = 0\n",
    "\n",
    "        #Rolling \"k\" die\n",
    "        for j in range(k):\n",
    "            #Roll a die, and add its value to the \"total\" variable.\n",
    "            total += random.randrange(1,7)\n",
    "\n",
    "        #Checks if the total already exists as a dictionary key. If so, add 1, if not, create it and set value to 0.\n",
    "        if total in dice_results:\n",
    "            dice_results[total] += 1 \n",
    "        else:\n",
    "            dice_results[total] = 1\n",
    "\n",
    "    #Returns the completed dictionary.    \n",
    "    return dice_results"
   ]
  },
  {
   "cell_type": "code",
   "execution_count": 22,
   "metadata": {},
   "outputs": [
    {
     "data": {
      "text/plain": [
       "{7: 166,\n",
       " 6: 124,\n",
       " 4: 101,\n",
       " 11: 55,\n",
       " 10: 94,\n",
       " 5: 98,\n",
       " 12: 27,\n",
       " 9: 124,\n",
       " 8: 126,\n",
       " 3: 55,\n",
       " 2: 30}"
      ]
     },
     "execution_count": 22,
     "metadata": {},
     "output_type": "execute_result"
    }
   ],
   "source": [
    "diceroll(k=2, n=1000)"
   ]
  },
  {
   "cell_type": "markdown",
   "metadata": {},
   "source": [
    "### Ensuring all possible totals appear as keys\n",
    "\n",
    "When \"n\" is set to a high number (e.g. the 1000 given in the problem statement), it's expected that all of the possible outcomes will be rolled. This would mean that the dictionary keys include all possible variations and the amount of times it appeared. However, for smaller sample sizes (for example if n=5), there will be possible totals that do not appear. My interpretation of the problem is that in this scenario, the possible total should still exist as a dictionary key, but with the value set to 0.\n",
    "\n",
    "In order to do this, I will first need to get all of the possible totals from \"k\" dice. I was able to find a Stack Overflow question similar to this scenario, which pointed me towards the itertools module[3]. As this module is included in the Python Standard Library[1], I can still use it for this problem.\n",
    "\n",
    "By using the itertools.product() function, with range(1,7) and repeat=k as the parameters, I can generate every combination of \"k\" dice. I can then sum those combinations to give me every possible total:\n",
    "```\n",
    "for dice in itertools.product(range(1, 7), repeat=k):\n",
    "        combination = sum(dice)            \n",
    "```\n",
    "I can then use an IF statement to check that that combination's total does not exist as a dictionary key. If the combination's total isn't already a dictionary key, the IF statement will create a new dictionary key for that total with 0 as it's value, otherwise it will skip over it. This is because there's multiple ways to make some of the possible totals (e.g. with 2 dice, there's 6 possible ways to make a total of 7), but I only need 1 of each total as a dictionary key."
   ]
  },
  {
   "cell_type": "code",
   "execution_count": 2,
   "metadata": {},
   "outputs": [],
   "source": [
    "def diceroll(k):\n",
    "\n",
    "    #Creating the dictionary to store all of the possible totals.\n",
    "    dice_results = {}\n",
    " \n",
    "    #Generates every possible combination of \"k\" sets of 1-6.\n",
    "    for dice in itertools.product(range(1, 7), repeat=k):\n",
    "        \n",
    "        #Sums each of the generated combinations.\n",
    "        combination_total = sum(dice)            \n",
    "        \n",
    "        #If the combination total is not a dictionary key already, it will create one with 0 as the value.\n",
    "        if combination_total not in dice_results.keys():\n",
    "            dice_results[combination_total] = 0         \n",
    "    \n",
    "    #Returns the completed dictionary of possible totals.\n",
    "    return dice_results"
   ]
  },
  {
   "cell_type": "code",
   "execution_count": 3,
   "metadata": {},
   "outputs": [
    {
     "data": {
      "text/plain": [
       "{3: 0,\n",
       " 4: 0,\n",
       " 5: 0,\n",
       " 6: 0,\n",
       " 7: 0,\n",
       " 8: 0,\n",
       " 9: 0,\n",
       " 10: 0,\n",
       " 11: 0,\n",
       " 12: 0,\n",
       " 13: 0,\n",
       " 14: 0,\n",
       " 15: 0,\n",
       " 16: 0,\n",
       " 17: 0,\n",
       " 18: 0}"
      ]
     },
     "execution_count": 3,
     "metadata": {},
     "output_type": "execute_result"
    }
   ],
   "source": [
    "diceroll(k=3)"
   ]
  },
  {
   "cell_type": "markdown",
   "metadata": {},
   "source": [
    "I can now combine this dictionary creation step with my previous FOR loops in order to count their frequency. As I now have every possible combination as a dictionary key already, I can now remove the IF/ELSE statement within the FOR loop."
   ]
  },
  {
   "cell_type": "code",
   "execution_count": 6,
   "metadata": {},
   "outputs": [],
   "source": [
    "def diceroll(k, n):\n",
    "\n",
    "    #Creating the dictionary to store all of the possible totals.\n",
    "    dice_results = {}\n",
    "\n",
    "    #Using itertools.product to create every possible dictionary key for \"k\" dice.\n",
    "    for dice in itertools.product(range(1, 7), repeat=k):\n",
    "        combination_total = sum(dice)            \n",
    "        if combination_total not in dice_results.keys():\n",
    "            dice_results[combination_total] = 0 \n",
    "    \n",
    "    #Uses random.randrange to roll \"k\" dice, sum the total and add 1 to the corresponding dictionary key.\n",
    "    #Repeated \"n\" times\n",
    "    for i in range(n):\n",
    "        total = 0\n",
    "        for j in range(k):\n",
    "            total += random.randrange(1,7)\n",
    "        dice_results[total] += 1 \n",
    "    \n",
    "    #Returns the completed dictionary\n",
    "    return dice_results"
   ]
  },
  {
   "cell_type": "code",
   "execution_count": 7,
   "metadata": {},
   "outputs": [
    {
     "data": {
      "text/plain": [
       "{2: 23,\n",
       " 3: 67,\n",
       " 4: 84,\n",
       " 5: 112,\n",
       " 6: 144,\n",
       " 7: 156,\n",
       " 8: 138,\n",
       " 9: 113,\n",
       " 10: 75,\n",
       " 11: 54,\n",
       " 12: 34}"
      ]
     },
     "execution_count": 7,
     "metadata": {},
     "output_type": "execute_result"
    }
   ],
   "source": [
    "diceroll(k=2, n=1000)"
   ]
  },
  {
   "cell_type": "markdown",
   "metadata": {},
   "source": [
    "Finally, as the problem statement states that the dictionary should be returned on one line, I can use the print function on the dice_results dictionary."
   ]
  },
  {
   "cell_type": "code",
   "execution_count": 8,
   "metadata": {},
   "outputs": [],
   "source": [
    "def diceroll(k, n):\n",
    "\n",
    "    #Creating the dictionary to store all of the possible totals.\n",
    "    dice_results = {}\n",
    "\n",
    "    #Using itertools.product to create every possible dictionary key for \"k\" dice.\n",
    "    for dice in itertools.product(range(1, 7), repeat=k):\n",
    "        combination_total = sum(dice)            \n",
    "        if combination_total not in dice_results.keys():\n",
    "            dice_results[combination_total] = 0 \n",
    "    \n",
    "    #Uses random.randrange to roll \"k\" dice, sum the total and add 1 to the corresponding dictionary key.\n",
    "    #Repeated \"n\" times\n",
    "    for i in range(n):\n",
    "        total = 0\n",
    "        for j in range(k):\n",
    "            total += random.randrange(1,7)\n",
    "        dice_results[total] += 1 \n",
    "    \n",
    "    #Returns the completed dictionary on one line.\n",
    "    return print(dice_results)"
   ]
  },
  {
   "cell_type": "code",
   "execution_count": 9,
   "metadata": {},
   "outputs": [
    {
     "name": "stdout",
     "output_type": "stream",
     "text": [
      "{2: 20, 3: 55, 4: 88, 5: 109, 6: 150, 7: 155, 8: 126, 9: 130, 10: 83, 11: 61, 12: 23}\n"
     ]
    }
   ],
   "source": [
    "diceroll(k=2, n=1000)"
   ]
  },
  {
   "cell_type": "markdown",
   "metadata": {},
   "source": [
    "# Task 2 Resources\n",
    "\n",
    "<p>[1] Python, 2020 [online], available from: https://docs.python.org/3/library/ [accessed 09 December 2020]</p>\n",
    "<p>[2] Python, 2020 [online], available from: https://docs.python.org/3/library/random.html [accessed 09 December 2020]</p>\n",
    "<p>[3] Stack Overflow, 2016 [online], python itertools: How to roll N dice?, available from:\n",
    "https://stackoverflow.com/questions/39400257/python-itertools-how-to-roll-n-dice [accessed 09 December 2020]</p>\n",
    "<p>[4] Python, 2020 [online], available from: https://docs.python.org/3/library/itertools.html [accessed 09 December 2020]</p>\n",
    "<p>[5] Tiwari, A., 2020, Python range() function [online], available from: https://www.geeksforgeeks.org/python-range-function/</p>\n",
    "______"
   ]
  },
  {
   "cell_type": "markdown",
   "metadata": {},
   "source": [
    "<a id='task3'></a>\n",
    "# Task 3\n",
    "## Problem\n",
    "\n",
    "The numpy.random.binomial function can be used to simulate flipping a coin with a 50/50 chance of heads or tails. Interestingly, if a coin is flipped many times then the number of heads is well approximated by a bell-shaped curve. For instance, if we flip a coin 100 times in a row the chance of getting 50 heads is relatively high, the chances of getting 0 or 100 heads is relatively low, and the chances of getting any other number of heads decreases as you move away from 50 in either direction towards 0 or 100. Write some python code that simulates flipping a coin 100 times. Then run this code 1,000 times, keeping track of the number of heads in each of the 1,000 simulations. Select an appropriate plot to depict the resulting list of 1,000 numbers, showing that it roughly follows a bell-shaped curve. You should explain your work in a Markdown cell above the code."
   ]
  },
  {
   "cell_type": "markdown",
   "metadata": {},
   "source": [
    "## Solution\n",
    "____"
   ]
  },
  {
   "cell_type": "code",
   "execution_count": 12,
   "metadata": {},
   "outputs": [
    {
     "data": {
      "image/png": "[encoded data removed]",
      "text/plain": [
       "<Figure size 432x288 with 1 Axes>"
      ]
     },
     "metadata": {
      "needs_background": "dark"
     },
     "output_type": "display_data"
    }
   ],
   "source": [
    "def coinflips():\n",
    "    '''Uses the Binomial function from numpy.random to simulate flipping a coin 100 times, and repeating the process 1000 times.\n",
    "    Returns the number of heads in each 100 coin flips as an ndarray.'''\n",
    "    #Created the random number generator container\n",
    "    rng = np.random.default_rng()\n",
    "\n",
    "    #Syntax - Generator.binomial(n, p, size=None)\n",
    "    coin_flips = rng.binomial(100, 0.5, 1000)\n",
    "    \n",
    "    return coin_flips\n",
    "\n",
    "#Moving plotting() into a separate function so that I can use it to show a regular normal distribution.\n",
    "def plotting(coinflips_np):\n",
    "    '''Takes an ndarray and plots it as a histogram with formatting on the axes and labels included. \n",
    "    Primarily intended to be used with the coinflips() function.'''\n",
    "    #Stating the colour I will use for text and axes.\n",
    "    grey = '#808080'\n",
    "        \n",
    "    #Creating objects for the plot for easier customisation.\n",
    "    fig, ax = plt.subplots()\n",
    "        \n",
    "    #Plotting results as a histogram with a Kernal Density Estimate.\n",
    "    sns.histplot(coinflips_np, color = '#9C6ADE', kde = True, discrete = True)\n",
    "        \n",
    "    fig.suptitle(\"Heads flipped on 100 coin tosses, repeated 1000 times\", x=0.125, y = 0.95, fontsize = 12, ha='left', color = grey, fontweight = 'bold')\n",
    "\n",
    "    #Using fig.text for the axis laels as it gives more flexibility for positioning.\n",
    "    fig.text(0.125, 0.03, \"Heads flipped per 100 coin flips\", ha='left', color = grey)\n",
    "    fig.text(0.12, 0.85, \"Frequency of result\", ha='right', color = grey)\n",
    "        \n",
    "    #Editing the spines[5][6], so that we can highlight the data in the plot itself.\n",
    "    ax.spines['right'].set_visible(False)\n",
    "    ax.spines['top'].set_visible(False)\n",
    "    ax.spines['left'].set_color(grey)\n",
    "    ax.spines['bottom'].set_color(grey)\n",
    "    ax.tick_params(axis='both', colors=grey)\n",
    "        \n",
    "    return ax\n",
    "\n",
    "plotting(coinflips());"
   ]
  },
  {
   "cell_type": "markdown",
   "metadata": {},
   "source": [
    "Although some individual results appear more frequently than others, we can see from the kernel density estimate (KDE) that there is a bell curve shape there. This is what we would expect to see of a normal distribution. \n",
    "\n",
    "To highlight this further, I will now generate a normal distribution via Numpy.Random, using the mean and standard deviation of the arrays generated by the coinflips() function as the parameters."
   ]
  },
  {
   "cell_type": "code",
   "execution_count": 14,
   "metadata": {},
   "outputs": [
    {
     "data": {
      "text/plain": [
       "49.786"
      ]
     },
     "execution_count": 14,
     "metadata": {},
     "output_type": "execute_result"
    }
   ],
   "source": [
    "mean = np.mean(coinflips())\n",
    "mean"
   ]
  },
  {
   "cell_type": "code",
   "execution_count": 15,
   "metadata": {},
   "outputs": [
    {
     "data": {
      "text/plain": [
       "50.0"
      ]
     },
     "execution_count": 15,
     "metadata": {},
     "output_type": "execute_result"
    }
   ],
   "source": [
    "np.median(coinflips())"
   ]
  },
  {
   "cell_type": "code",
   "execution_count": 16,
   "metadata": {},
   "outputs": [
    {
     "data": {
      "text/plain": [
       "5.151636244922579"
      ]
     },
     "execution_count": 16,
     "metadata": {},
     "output_type": "execute_result"
    }
   ],
   "source": [
    "std = np.std(coinflips())\n",
    "std"
   ]
  },
  {
   "cell_type": "code",
   "execution_count": 17,
   "metadata": {},
   "outputs": [
    {
     "data": {
      "image/png": "[encoded data removed]",
      "text/plain": [
       "<Figure size 432x288 with 1 Axes>"
      ]
     },
     "metadata": {
      "needs_background": "dark"
     },
     "output_type": "display_data"
    }
   ],
   "source": [
    "rng = np.random.default_rng()\n",
    "normal_distribution = rng.normal(mean, std, 1000)\n",
    "\n",
    "plotting(normal_distribution);"
   ]
  },
  {
   "cell_type": "markdown",
   "metadata": {},
   "source": [
    "The resulting normal distribution closely mirror those of the binomial distribution used in the coinflips() function, and so proves that flipping a coin and recording the totals heads for each set of 100 coin flips does mirror a normal distribution."
   ]
  },
  {
   "cell_type": "markdown",
   "metadata": {},
   "source": [
    "## Approach\n",
    "____\n",
    "\n",
    "### Generating the coin flips without Numpy.Random\n",
    "\n",
    "For this problem, I could either utilize the binomial() function from numpy.random to generate the coin flips, or I could attempt a more manual solution by using the Random package from the standard library.\n",
    "\n",
    "Initially I attempted this with the Random package. I began by creating a dictionary with each possible result as the key. This will ensure that when I am doing any plotting later, all possible results are accounted for (i.e. none are skipped on the x axis)."
   ]
  },
  {
   "cell_type": "code",
   "execution_count": 32,
   "metadata": {},
   "outputs": [],
   "source": [
    "#Creating a dictionary of all possible \"scores\" from 0-100. \n",
    "#This will ensure the final plots will still show any totals that didn't appear.\n",
    "results = {}\n",
    "    \n",
    "#Range goes up to but doesn't include the high value. This 101 value gives 100 results.\n",
    "for i in range(101):\n",
    "    results[i] = 0\n"
   ]
  },
  {
   "cell_type": "markdown",
   "metadata": {},
   "source": [
    "With the dictionary keys now set, I can then use the Random package, much like I did for the dice rolls in Problem 2. I flip the coin, and if it lands on a head, I add 1 to the total. After 100 coin flips, I then find the dictionary key that matches the total heads, and increase its corresponding value by 1."
   ]
  },
  {
   "cell_type": "code",
   "execution_count": 33,
   "metadata": {},
   "outputs": [],
   "source": [
    "def coinflips():\n",
    "    '''A function that simulates flipping a coin 100 times, and recording the heads, repeated 1000 times.'''\n",
    "\n",
    "    #Creating a dictionary of all possible \"scores\" from 0-100. \n",
    "    #This will ensure the final plots will still show any totals that didn't appear.\n",
    "    results = {}\n",
    "    \n",
    "    #Range goes up to but doesn't include the high value. This 101 value gives 100 results.\n",
    "    for i in range(101):\n",
    "        results[i] = 0\n",
    "\n",
    "    #Repeat the whole process 1000 times.\n",
    "    for i in range(1000):\n",
    "\n",
    "        #Create a variable for the heads (1s) to be added to.\n",
    "        total = 0\n",
    "\n",
    "        #flip the coin 100 times\n",
    "        for k in range(100):\n",
    "            #Add the result of each coin flip to the total (0 for tails, 1 for heads)\n",
    "            total += random.randrange(0,2)\n",
    "        #Find the corresponding dictionary key and add 1 to its count.\n",
    "        results[total] +=1\n",
    "    return results\n",
    "\n",
    "#coinflips()"
   ]
  },
  {
   "cell_type": "markdown",
   "metadata": {},
   "source": [
    "Now that I have a dictionary created, I can create an inner function to turn that dictionary into a Pandas dataframe for easier plotting."
   ]
  },
  {
   "cell_type": "code",
   "execution_count": 36,
   "metadata": {},
   "outputs": [
    {
     "data": {
      "text/html": [
       "<div>\n",
       "<style scoped>\n",
       "    .dataframe tbody tr th:only-of-type {\n",
       "        vertical-align: middle;\n",
       "    }\n",
       "\n",
       "    .dataframe tbody tr th {\n",
       "        vertical-align: top;\n",
       "    }\n",
       "\n",
       "    .dataframe thead th {\n",
       "        text-align: right;\n",
       "    }\n",
       "</style>\n",
       "<table border=\"1\" class=\"dataframe\">\n",
       "  <thead>\n",
       "    <tr style=\"text-align: right;\">\n",
       "      <th></th>\n",
       "      <th>Frequency</th>\n",
       "    </tr>\n",
       "  </thead>\n",
       "  <tbody>\n",
       "    <tr>\n",
       "      <th>0</th>\n",
       "      <td>0</td>\n",
       "    </tr>\n",
       "    <tr>\n",
       "      <th>1</th>\n",
       "      <td>0</td>\n",
       "    </tr>\n",
       "    <tr>\n",
       "      <th>2</th>\n",
       "      <td>0</td>\n",
       "    </tr>\n",
       "    <tr>\n",
       "      <th>3</th>\n",
       "      <td>0</td>\n",
       "    </tr>\n",
       "    <tr>\n",
       "      <th>4</th>\n",
       "      <td>0</td>\n",
       "    </tr>\n",
       "    <tr>\n",
       "      <th>...</th>\n",
       "      <td>...</td>\n",
       "    </tr>\n",
       "    <tr>\n",
       "      <th>96</th>\n",
       "      <td>0</td>\n",
       "    </tr>\n",
       "    <tr>\n",
       "      <th>97</th>\n",
       "      <td>0</td>\n",
       "    </tr>\n",
       "    <tr>\n",
       "      <th>98</th>\n",
       "      <td>0</td>\n",
       "    </tr>\n",
       "    <tr>\n",
       "      <th>99</th>\n",
       "      <td>0</td>\n",
       "    </tr>\n",
       "    <tr>\n",
       "      <th>100</th>\n",
       "      <td>0</td>\n",
       "    </tr>\n",
       "  </tbody>\n",
       "</table>\n",
       "<p>101 rows × 1 columns</p>\n",
       "</div>"
      ],
      "text/plain": [
       "     Frequency\n",
       "0            0\n",
       "1            0\n",
       "2            0\n",
       "3            0\n",
       "4            0\n",
       "..         ...\n",
       "96           0\n",
       "97           0\n",
       "98           0\n",
       "99           0\n",
       "100          0\n",
       "\n",
       "[101 rows x 1 columns]"
      ]
     },
     "execution_count": 36,
     "metadata": {},
     "output_type": "execute_result"
    }
   ],
   "source": [
    "def coinflips():\n",
    "    '''A function that simulates flipping a coin 100 times, and recording the heads, repeated 1000 times.\n",
    "    Will return a bar plot showing the \"scores\" each set of 100 flips.'''\n",
    "\n",
    "    #Creating a dictionary of all possible \"scores\" from 0-100. \n",
    "    #This will ensure the final plots will still show any totals that didn't appear.\n",
    "    results = {}\n",
    "    \n",
    "    #Range goes up to but doesn't include the high value. This 101 value gives 100 results.\n",
    "    for i in range(101):\n",
    "        results[i] = 0\n",
    "\n",
    "    #Repeat the whole process 1000 times.\n",
    "    for i in range(1000):\n",
    "\n",
    "        #Create a variable for the heads (1s) to be added to.\n",
    "        total = 0\n",
    "\n",
    "        #flip the coin 100 times\n",
    "        for k in range(100):\n",
    "            #Add the result of each coin flip to the total (0 for tails, 1 for heads)\n",
    "            total += random.randrange(0,2)\n",
    "        #Find the corresponding dictionary key and add 1 to its count.\n",
    "        results[total] +=1\n",
    "    \n",
    "    #Turn this into a dataframe for plotting [1]\n",
    "    def dictionary_to_dataframe(results):\n",
    "        coinflips_df = pd.DataFrame.from_dict(results, orient='index', columns = ['Frequency'])\n",
    "        return coinflips_df\n",
    "    return dictionary_to_dataframe(results)\n",
    "    \n",
    "coinflips()"
   ]
  },
  {
   "cell_type": "markdown",
   "metadata": {},
   "source": [
    "The next step was to plot this dataframe. While normally one would expect to use a histogram, the fact that I had set the frequencies as dictionary keys and turned the dictionary into a pandas dataframe meant that a histogram would not work. This is because the \"results\" were on the index of the dataframe, and the \"frequency\" was one of the variables, and so a histogram would simply show how frequent the \"frequency\" variable was in the dataframe. This meant it would show a huge count of 0s, as the normally distributed results would mean very few of the results would fall between 0-30 heads and 70-100 heads. \n",
    "\n",
    "I therefore had to utilize a bar plot, and have the dataframe's index act as categories, with the \"frequency\" variable being the y axis value."
   ]
  },
  {
   "cell_type": "code",
   "execution_count": 42,
   "metadata": {},
   "outputs": [
    {
     "data": {
      "text/plain": [
       "<AxesSubplot:>"
      ]
     },
     "execution_count": 42,
     "metadata": {},
     "output_type": "execute_result"
    },
    {
     "data": {
      "image/png": "[encoded data removed]",
      "text/plain": [
       "<Figure size 432x288 with 1 Axes>"
      ]
     },
     "metadata": {
      "needs_background": "dark"
     },
     "output_type": "display_data"
    }
   ],
   "source": [
    "def coinflips():\n",
    "    '''A function that simulates flipping a coin 100 times, and recording the heads, repeated 1000 times.\n",
    "    Will return a bar plot showing the \"scores\" each set of 100 flips.'''\n",
    "\n",
    "    #Creating a dictionary of all possible \"scores\" from 0-100. \n",
    "    #This will ensure the final plots will still show any totals that didn't appear.\n",
    "    results = {}\n",
    "    \n",
    "    #Range goes up to but doesn't include the high value. This 101 value gives 100 results.\n",
    "    for i in range(101):\n",
    "        results[i] = 0\n",
    "\n",
    "    #Repeat the whole process 1000 times.\n",
    "    for i in range(1000):\n",
    "\n",
    "        #Create a variable for the heads (1s) to be added to.\n",
    "        total = 0\n",
    "\n",
    "        #flip the coin 100 times\n",
    "        for k in range(100):\n",
    "            #Add the result of each coin flip to the total (0 for tails, 1 for heads)\n",
    "            total += random.randrange(0,2)\n",
    "        #Find the corresponding dictionary key and add 1 to its count.\n",
    "        results[total] +=1\n",
    "    \n",
    "    #Turn this into a dataframe for plotting[1]\n",
    "    def dictionary_to_dataframe(results):\n",
    "        coinflips_df = pd.DataFrame.from_dict(results, orient='index', columns = ['Frequency'])\n",
    "        return coinflips_df\n",
    "    \n",
    "    #Histogram isn't working here, as it's not treating the \"scores\" as categories, I'll therefore use a bar plot.\n",
    "    def plotting(coinflips_df):\n",
    "        \n",
    "        #Stating the colour I will use for text and axes.\n",
    "        grey = '#808080'\n",
    "        \n",
    "        #Creating objects for the plot for easier customisation.\n",
    "        fig, ax = plt.subplots()\n",
    "        \n",
    "        #Plotting results as a bar chart, with each \"score\" as a category on the x axis, and their count on the y axis.\n",
    "        ax.bar(coinflips_df.index, coinflips_df['Frequency'], color = '#9C6ADE')\n",
    "        \n",
    "        fig.suptitle(\"Heads flipped on 100 coin tosses, repeated 1000 times\", x=0.125, y = 0.95, fontsize = 12, ha='left', color = grey, fontweight = 'bold')\n",
    "\n",
    "        #Using fig.text for the axis laels as it gives more flexibility.\n",
    "        fig.text(0.125, 0.03, \"Heads flipped per 100 coin flips\", ha='left', color = grey)\n",
    "        fig.text(0.12, 0.85, \"Frequency of result\", ha='right', color = grey)\n",
    "        \n",
    "        #Editing the spines[5][6], so that we can highlight the data in the plot itself.\n",
    "        ax.spines['right'].set_visible(False)\n",
    "        ax.spines['top'].set_visible(False)\n",
    "        ax.spines['left'].set_color(grey)\n",
    "        ax.spines['bottom'].set_color(grey)\n",
    "        ax.tick_params(axis='both', colors=grey)\n",
    "\n",
    "        \n",
    "        return ax\n",
    "    #I want to pass the results to the dictionary_to_dataframe function, and the results of this passed to the plotting function.\n",
    "    return plotting(dictionary_to_dataframe(results))\n",
    "\n",
    "coinflips()"
   ]
  },
  {
   "cell_type": "markdown",
   "metadata": {},
   "source": [
    "While we can see the general bell curve shape, there is some unusual behaviour in the values from 50 onwards. I was unable to investigate this issue as thoroughly as I would like due to time constraints.\n",
    "\n",
    "It therefore became clear that I should attempt this with Numpy.Random. From our other assignments this semester, it is a package I now know well, and the binomial function[2] would generate the results I need quickly and easily.\n",
    "\n",
    "### Generating the coin flips with Numpy.Random\n",
    "\n",
    "Numpy's binomial function will quickly and easily generate the coin flips I need for this problem. The syntax for this function is very simple too, as it just requires:\n",
    "* The number of trials to be conducted - in this case our 100 coin flips.\n",
    "* The probability of a \"success\" - in this case there's a 0.5 probability of getting a heads.\n",
    "* How often to repeat the trials - in this case 1000 times.\n",
    "\n",
    "This solution requires a lot less lines of code, and will work much quicker than my previous solution to the coin flipping. This is because we'll be using Numpy's ndarray data type, and leveraging Numpy's much faster number generating capabilities, as the package is created for us with huge datasets, and thus performance is a key factor in its design."
   ]
  },
  {
   "cell_type": "code",
   "execution_count": 44,
   "metadata": {},
   "outputs": [],
   "source": [
    "rng = np.random.default_rng()\n",
    "\n",
    "#Syntax - Generator.binomial(n, p, size=None)\n",
    "coin_flips = rng.binomial(100, 0.5, 1000)"
   ]
  },
  {
   "cell_type": "markdown",
   "metadata": {},
   "source": [
    "Also, as the \"results\" are just values in the array, I can now use a histogram for the plotting. The histogram will plot how frequent each \"result\" value is. I initially decided to use Matplotlib.pyplot for this."
   ]
  },
  {
   "cell_type": "code",
   "execution_count": 58,
   "metadata": {},
   "outputs": [],
   "source": [
    "def coinflips():\n",
    "    #Created the random number generator container\n",
    "    rng = np.random.default_rng()\n",
    "\n",
    "    #Syntax - Generator.binomial(n, p, size=None)\n",
    "    coin_flips = rng.binomial(100, 0.5, 1000)\n",
    "    \n",
    "    def plotting(coinflips_np):\n",
    "        #Stating the colour I will use for text and axes.\n",
    "        grey = '#808080'\n",
    "        \n",
    "        #Creating objects for the plot for easier customisation.\n",
    "        fig, ax = plt.subplots()\n",
    "        \n",
    "        #Plotting results as a histogram.\n",
    "        ax.hist(coinflips_np, bins = np.arange(1,101), color = '#9C6ADE')\n",
    "        \n",
    "        fig.suptitle(\"Heads flipped on 100 coin tosses, repeated 1000 times\", x=0.125, y = 0.95, fontsize = 12, ha='left', color = grey, fontweight = 'bold')\n",
    "\n",
    "        #Using fig.text for the axis laels as it gives more flexibility.\n",
    "        fig.text(0.125, 0.03, \"Heads flipped per 100 coin flips\", ha='left', color = grey)\n",
    "        fig.text(0.12, 0.85, \"Frequency of result\", ha='right', color = grey)\n",
    "        \n",
    "        #Editing the spines[5][6], so that we can highlight the data in the plot itself.\n",
    "        ax.spines['right'].set_visible(False)\n",
    "        ax.spines['top'].set_visible(False)\n",
    "        ax.spines['left'].set_color(grey)\n",
    "        ax.spines['bottom'].set_color(grey)\n",
    "        ax.tick_params(axis='both', colors=grey)\n",
    "\n",
    "        \n",
    "        return ax\n",
    "    return plotting(coin_flips)"
   ]
  },
  {
   "cell_type": "code",
   "execution_count": 59,
   "metadata": {},
   "outputs": [
    {
     "data": {
      "image/png": "[encoded data removed]",
      "text/plain": [
       "<Figure size 432x288 with 1 Axes>"
      ]
     },
     "metadata": {
      "needs_background": "dark"
     },
     "output_type": "display_data"
    }
   ],
   "source": [
    "coinflips();"
   ]
  },
  {
   "cell_type": "markdown",
   "metadata": {},
   "source": [
    "This works well, and we can see the approximation of a bell curve here. However in order to really show that this is a bell curve, I can utilize Seaborn's histplot. The Seaborn histplot allows the user to include a Kernal Density Estimate (KDE)[3]. This KDE can be used to give an approximation of the shape of the data[4]. and so in this example it can really show whether or not our data has that bell curve shape we'd expect of a normal distribution."
   ]
  },
  {
   "cell_type": "code",
   "execution_count": 63,
   "metadata": {},
   "outputs": [],
   "source": [
    "def coinflips():\n",
    "    #Created the random number generator container\n",
    "    rng = np.random.default_rng()\n",
    "\n",
    "    #Syntax - Generator.binomial(n, p, size=None)\n",
    "    coin_flips = rng.binomial(100, 0.5, 1000)\n",
    "    \n",
    "    def plotting(coinflips_np):\n",
    "        #Stating the colour I will use for text and axes.\n",
    "        grey = '#808080'\n",
    "        \n",
    "        #Creating objects for the plot for easier customisation.\n",
    "        fig, ax = plt.subplots()\n",
    "        \n",
    "        #Plotting results as a Seaborn histogram along with a KDE.\n",
    "        sns.histplot(coinflips_np, color = '#9C6ADE', kde = True, discrete = True)\n",
    "        \n",
    "        fig.suptitle(\"Heads flipped on 100 coin tosses, repeated 1000 times\", x=0.125, y = 0.95, fontsize = 12, ha='left', color = grey, fontweight = 'bold')\n",
    "\n",
    "        #Using fig.text for the axis laels as it gives more flexibility.\n",
    "        fig.text(0.125, 0.03, \"Heads flipped per 100 coin flips\", ha='left', color = grey)\n",
    "        fig.text(0.12, 0.85, \"Frequency of result\", ha='right', color = grey)\n",
    "        \n",
    "        #Editing the spines[5][6], so that we can highlight the data in the plot itself.\n",
    "        ax.spines['right'].set_visible(False)\n",
    "        ax.spines['top'].set_visible(False)\n",
    "        ax.spines['left'].set_color(grey)\n",
    "        ax.spines['bottom'].set_color(grey)\n",
    "        ax.tick_params(axis='both', colors=grey)\n",
    "\n",
    "        \n",
    "        return ax\n",
    "    return plotting(coin_flips)"
   ]
  },
  {
   "cell_type": "code",
   "execution_count": 64,
   "metadata": {},
   "outputs": [
    {
     "data": {
      "image/png": "[encoded data removed]",
      "text/plain": [
       "<Figure size 432x288 with 1 Axes>"
      ]
     },
     "metadata": {
      "needs_background": "dark"
     },
     "output_type": "display_data"
    }
   ],
   "source": [
    "coinflips();"
   ]
  },
  {
   "cell_type": "markdown",
   "metadata": {},
   "source": [
    "The KDE really helps show the shape of the data here, and we can see that it does match the shape we'd expect of a Normal Distribution.\n",
    "\n",
    "Finally, I decided to split coinflips() and plotting() functions into two separate functions. This was so that I could utilize the plotting() function separately in order to compare the output of coinflips() to the output of numpy.random's normal distribution."
   ]
  },
  {
   "cell_type": "markdown",
   "metadata": {},
   "source": [
    "# Task 3 Resources\n",
    "\n",
    "<p>[1] Pandas, 2020 [online], available from:  https://pandas.pydata.org/pandas-docs/stable/reference/api/pandas.DataFrame.from_dict.html [Accessed 12 December 2020]</p>\n",
    "\n",
    "<p>[2] Numpy, 2020 [online], available from: https://numpy.org/doc/stable/reference/random/generated/numpy.random.Generator.binomial.html#numpy.random.Generator.binomial [Accessed 12 December 2020]</p>\n",
    "\n",
    "<p>[3] Seaborn, 2020 [online], available from: https://seaborn.pydata.org/generated/seaborn.histplot.html [Accessed 12 December 2020]</p>\n",
    "\n",
    "<p>[4] Conlen, M., Kernal Density Estimation [online], available from: https://mathisonian.github.io/kde/ [Accessed 12 December 2020]</p>\n",
    "\n",
    "<p>[5] Stack Overflow, 2009 [online], How can I remove the top and right axis in matplotlib?, available from: https://stackoverflow.com/questions/925024/how-can-i-remove-the-top-and-right-axis-in-matplotlib [accessed 09 December 2020]</p>\n",
    "\n",
    "<p>[6] Stack Overflow, 2010 [online], Matplotlib: Changing the color of an axis, available from: https://stackoverflow.com/questions/1982770/matplotlib-changing-the-color-of-an-axis [accessed 09 December 2020]</p>\n",
    "_____"
   ]
  },
  {
   "cell_type": "markdown",
   "metadata": {},
   "source": [
    "<a id='task4'></a>\n",
    "# Task 4\n",
    "## Problem\n",
    "\n",
    "Simpson’s paradox is a well-known statistical paradox where a trend evident in a number of groups reverses when the groups are combined into one big data set. Use numpy to create four data sets, each with an x array and a corresponding y array, to demonstrate Simpson’s paradox. You might create your x arrays using numpy.linspace and create the y array for each x using notation like y = a * x + b where you choose the a and b for each x , y pair to demonstrate the paradox. You might see the Wikipedia page for Simpson’s paradox for inspiration."
   ]
  },
  {
   "cell_type": "markdown",
   "metadata": {},
   "source": [
    "## Solution\n",
    "____"
   ]
  },
  {
   "cell_type": "code",
   "execution_count": 18,
   "metadata": {},
   "outputs": [],
   "source": [
    "#Creating the pseudo random number generator container with the above seed.\n",
    "rng = default_rng()\n",
    "\n",
    "#Using linspace to create each of the x arrays[4].\n",
    "x1 = np.linspace(0, 40, 40)\n",
    "\n",
    "#The x arrays are then multiplied and have random numbers added to them to make them look a bit less linear.\n",
    "y1 = (6 * x1) + rng.normal(0,100,len(x1))\n",
    "\n",
    "#Repeat for x1 and y2\n",
    "x2 = np.linspace(20, 60, 40)\n",
    "y2 = (4 * x2) + rng.normal(0,100,len(x2))\n",
    "\n",
    "#x3 and y3\n",
    "x3 = np.linspace(40, 80, 40)\n",
    "y3 = (1.1 * x3) + rng.normal(0,20,len(x3))\n",
    "\n",
    "#x4 and y4\n",
    "x4 = np.linspace(60, 100, 40)\n",
    "y4 = (0.4 * x4) - rng.normal(-10,3,len(x4))"
   ]
  },
  {
   "cell_type": "code",
   "execution_count": 19,
   "metadata": {},
   "outputs": [
    {
     "data": {
      "image/png": "[encoded data removed]",
      "text/plain": [
       "<Figure size 432x288 with 1 Axes>"
      ]
     },
     "metadata": {
      "needs_background": "light"
     },
     "output_type": "display_data"
    }
   ],
   "source": [
    "#Using regplot to show the line of best fit for each of the datasets.\n",
    "#Here I'll plot them all on the same axis to show their individual trends.\n",
    "sns.regplot(x = x1,y = y1, color = '#9C6ADE', label = 'x1 y1')\n",
    "sns.regplot(x = x2,y = y2, color = '#47C1BF', label = 'x2 y2')\n",
    "sns.regplot(x = x3,y = y3, color = '#F49342', label = 'x3 y3')\n",
    "sns.regplot(x = x4,y = y4, color = 'red',label = 'x4 y4')\n",
    "plt.suptitle(\"Four datasets plotted together\")\n",
    "plt.text(103, 30, \"Each individual dataset has \\na positive trend on their own.\")\n",
    "plt.legend();"
   ]
  },
  {
   "cell_type": "code",
   "execution_count": 20,
   "metadata": {},
   "outputs": [
    {
     "data": {
      "image/png": "[encoded data removed]",
      "text/plain": [
       "<Figure size 432x288 with 1 Axes>"
      ]
     },
     "metadata": {
      "needs_background": "light"
     },
     "output_type": "display_data"
    }
   ],
   "source": [
    "#Combining all the x and y arrays into one.\n",
    "x = np.concatenate((x1, x2, x3, x4))\n",
    "y = np.concatenate((y1, y2, y3, y4))\n",
    "\n",
    "#Using regplot again to show the line of best fit for the combined dataset.\n",
    "sns.regplot(x = x,y = y)\n",
    "plt.suptitle(\"Four datasets combined\")\n",
    "plt.text(103, 30, \"Trend slopes downwards \\nwhen all four arrays are combined.\");"
   ]
  },
  {
   "cell_type": "markdown",
   "metadata": {},
   "source": [
    "Each of the four datasets has a positive trend when viewed independently, however when they are viewed as a group, the trend looks negative. In my example, I've created four datasets on different scales which start and finish at different points of the X axis. \n",
    "\n",
    "For example Dataset 1 (x1 and y1) has the largest y values, but only occurs when x is between 0 and 40. Dataset 2 (x2 and y2) has slightly smaller y values, and occurs when x is between 20 and 60. Datasets 3 (x3 and y3) and 4 (x4 and y4) are on significantly smaller scales on the y axis, and occur when x is between 40 and 80, and 60 and 100 respectively.\n",
    "\n",
    "In my professional life, I see Simpson's Paradox fairly regularly when looking at the amount of support tickets my team gets through when compared to their tenure on the team. Newer people tend to focus on the easier tickets, and have fewer additional responsibilities, and so their ticket count can be very high. Meanwhile people that have been on the team for longer tend to take on more challenging or higher value tickets, and will often have additional responsibilities and projects that take them away from tickets, and so their ticket count is reduced. If I look at the team as a whole, I will see that as tenure increases ticket count decreases, regardless of any actual trends in team performance. It is for this reason that I must split my team into similar cohorts for analysis when looking to assess the impact of new workflows and such. This is similar to how variables like age can impact overall health related datasets[5].\n",
    "\n",
    "Another example where Simpson's Paradox can appear, and quite a common example in descriptions of the paradox, is in situations where different categories have different weights apportioned to them, or the proportion of multiple categories are combined into a total proportion. \n",
    "\n",
    "For example, restaurant A may get better reviews from both male reviewers and female reviewers then restaurant B, yet still end up with a lower overall score[1]. If men tend to give lower ratings to restaurants in general, and more men had reviewed restaurant A than B, this would bring down its overall rating, especially if the men substantially outnumbered the women."
   ]
  },
  {
   "cell_type": "markdown",
   "metadata": {},
   "source": [
    "## Approach\n",
    "\n",
    "For this I'll be creating four datasets that start and end at different points of the X axis. This will create a step effect, and so although each will have positive trends, the fact that the higher Y values appear earlier on the X axis will bring the overall trend down. I will use the Seaborn Regplot throughout, as this includes a linear regression in the plot[2]."
   ]
  },
  {
   "cell_type": "code",
   "execution_count": 21,
   "metadata": {},
   "outputs": [
    {
     "data": {
      "image/png": "[encoded data removed]",
      "text/plain": [
       "<Figure size 432x288 with 1 Axes>"
      ]
     },
     "metadata": {
      "needs_background": "light"
     },
     "output_type": "display_data"
    }
   ],
   "source": [
    "rng = default_rng()\n",
    "\n",
    "x1 = np.linspace(0, 40, 40)\n",
    "\n",
    "y1 = (6 * x1) + rng.normal(0,100,len(x1))\n",
    "\n",
    "\n",
    "sns.regplot(x = x1,y = y1, color = '#9C6ADE')\n",
    "plt.suptitle(\"Dataset 1\");"
   ]
  },
  {
   "cell_type": "code",
   "execution_count": 22,
   "metadata": {},
   "outputs": [
    {
     "data": {
      "text/plain": [
       "Text(0.5, 0.98, 'Dataset 2')"
      ]
     },
     "execution_count": 22,
     "metadata": {},
     "output_type": "execute_result"
    },
    {
     "data": {
      "image/png": "[encoded data removed]",
      "text/plain": [
       "<Figure size 432x288 with 1 Axes>"
      ]
     },
     "metadata": {
      "needs_background": "light"
     },
     "output_type": "display_data"
    }
   ],
   "source": [
    "rng = default_rng()\n",
    "x2 = np.linspace(20, 60, 40)\n",
    "\n",
    "y2 = (4 * x2) + rng.normal(0,100,len(x2))\n",
    "\n",
    "\n",
    "sns.regplot(x = x2,y = y2, color = '#47C1BF')\n",
    "plt.suptitle(\"Dataset 2\")"
   ]
  },
  {
   "cell_type": "code",
   "execution_count": 23,
   "metadata": {},
   "outputs": [
    {
     "data": {
      "text/plain": [
       "Text(0.5, 0.98, 'Dataset 3')"
      ]
     },
     "execution_count": 23,
     "metadata": {},
     "output_type": "execute_result"
    },
    {
     "data": {
      "image/png": "[encoded data removed]",
      "text/plain": [
       "<Figure size 432x288 with 1 Axes>"
      ]
     },
     "metadata": {
      "needs_background": "light"
     },
     "output_type": "display_data"
    }
   ],
   "source": [
    "rng = default_rng()\n",
    "\n",
    "x3 = np.linspace(40, 80, 40)\n",
    "\n",
    "y3 = (1.1 * x3) + rng.normal(0,20,len(x3))\n",
    "\n",
    "\n",
    "sns.regplot(x = x3,y = y3, color = '#F49342')\n",
    "plt.suptitle(\"Dataset 3\")"
   ]
  },
  {
   "cell_type": "code",
   "execution_count": 24,
   "metadata": {},
   "outputs": [
    {
     "data": {
      "text/plain": [
       "Text(0.5, 0.98, 'Dataset 4')"
      ]
     },
     "execution_count": 24,
     "metadata": {},
     "output_type": "execute_result"
    },
    {
     "data": {
      "image/png": "[encoded data removed]",
      "text/plain": [
       "<Figure size 432x288 with 1 Axes>"
      ]
     },
     "metadata": {
      "needs_background": "light"
     },
     "output_type": "display_data"
    }
   ],
   "source": [
    "rng = default_rng()\n",
    "\n",
    "x4 = np.linspace(60, 100, 40)\n",
    "\n",
    "y4 = (0.4 * x4) - rng.normal(-10,3,len(x4))\n",
    "\n",
    "\n",
    "sns.regplot(x = x4,y = y4, color = 'red')\n",
    "plt.suptitle(\"Dataset 4\")"
   ]
  },
  {
   "cell_type": "markdown",
   "metadata": {},
   "source": [
    "With the four individual datasets created, I can plot them together to show that each does have a positive trend, even if the slope of their lines are on different scales."
   ]
  },
  {
   "cell_type": "code",
   "execution_count": 25,
   "metadata": {},
   "outputs": [
    {
     "data": {
      "image/png": "[encoded data removed]",
      "text/plain": [
       "<Figure size 432x288 with 1 Axes>"
      ]
     },
     "metadata": {
      "needs_background": "light"
     },
     "output_type": "display_data"
    }
   ],
   "source": [
    "sns.regplot(x = x1,y = y1, color = '#9C6ADE', label = 'x1 y1')\n",
    "sns.regplot(x = x2,y = y2, color = '#47C1BF', label = 'x2 y2')\n",
    "sns.regplot(x = x3,y = y3, color = '#F49342', label = 'x3 y3')\n",
    "sns.regplot(x = x4,y = y4, color = 'red',label = 'x4 y4')\n",
    "plt.suptitle(\"Four datasets plotted together\")\n",
    "plt.text(103, 30, \"Each individual dataset has \\na positive trend on their own.\")\n",
    "plt.legend();"
   ]
  },
  {
   "cell_type": "markdown",
   "metadata": {},
   "source": [
    "Now, when we concantenate[3] these arrays into one, we'll see that the overall trend is slightly negative. This is because the higher Y values are appearing at the lower end of the X axis, and the higher end of the X axis being close to 0."
   ]
  },
  {
   "cell_type": "code",
   "execution_count": 26,
   "metadata": {},
   "outputs": [
    {
     "data": {
      "image/png": "[encoded data removed]",
      "text/plain": [
       "<Figure size 432x288 with 1 Axes>"
      ]
     },
     "metadata": {
      "needs_background": "light"
     },
     "output_type": "display_data"
    }
   ],
   "source": [
    "x = np.concatenate((x1, x2, x3, x4))\n",
    "y = np.concatenate((y1, y2, y3, y4))\n",
    "\n",
    "sns.regplot(x = x,y = y)\n",
    "plt.suptitle(\"Four datasets combined\")\n",
    "plt.text(103, 30, \"Trend slopes downwards \\nwhen all four arrays are combined.\");"
   ]
  },
  {
   "cell_type": "markdown",
   "metadata": {},
   "source": [
    "# Task 4 Resources\n",
    "\n",
    "<p>[1] Koehrsen, W., 2018, Simpson’s Paradox: How to Prove Opposite Arguments with the Same Data [online], available from: https://towardsdatascience.com/simpsons-paradox-how-to-prove-two-opposite-arguments-using-one-dataset-1c9c917f5ff9</p>\n",
    "<p>[2] Seaborn, 2020 [online], available from https://seaborn.pydata.org/generated/seaborn.regplot.html [accessed 09 December 2020]</p>\n",
    "<p>[3] Numpy, 2020 [online], available from https://numpy.org/doc/stable/reference/generated/numpy.concatenate.html [accessed 09 December 2020]</p>\n",
    "<p>[4] Numpy, 2020 [online], available from https://numpy.org/doc/stable/reference/generated/numpy.linspace.html [accessed 09 December 2020]</p>\n",
    "<p>[5] Ramsay, D., 2019, An Introduction to Simpson’s Paradox [online], available from: https://towardsdatascience.com/simpsons-paradox-d2f4d8f08d42</p>\n",
    "<p>[6] Copeland, T., 2020, What is Simpson’s Paradox? [online], available from: https://towardsdatascience.com/what-is-simpsons-paradox-4a53cd4e9ee2</p>\n"
   ]
  }
 ],
 "metadata": {
  "kernelspec": {
   "display_name": "Python 3",
   "language": "python",
   "name": "python3"
  },
  "language_info": {
   "codemirror_mode": {
    "name": "ipython",
    "version": 3
   },
   "file_extension": ".py",
   "mimetype": "text/x-python",
   "name": "python",
   "nbconvert_exporter": "python",
   "pygments_lexer": "ipython3",
   "version": "3.8.5"
  }
 },
 "nbformat": 4,
 "nbformat_minor": 4
}
