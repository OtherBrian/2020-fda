{
 "cells": [
  {
   "cell_type": "markdown",
   "metadata": {},
   "source": [
    "# Fundamentals of Data Analysis\n",
    "## Tasks\n",
    "\n",
    "These are my solutions to the Tasks assessment for this module. The author is Brian Doheny."
   ]
  },
  {
   "cell_type": "markdown",
   "metadata": {},
   "source": [
    "### Task 1\n",
    "\n",
    "Write a Python function called counts that takes a list as input and returns a dictionary of unique items in the list as keys and the number of times each item appears as values. So, the input ['A', 'A', 'B', 'C', 'A'] should have output {'A': 3, 'B': 1, 'C': 1} . Your code should not depend on any module from the standard library or otherwise. You should research the task first and include a description with references of your algorithm in the notebook."
   ]
  },
  {
   "cell_type": "markdown",
   "metadata": {},
   "source": [
    "### Pseudocode\n",
    "\n",
    "<p>for item in list:</p>\n",
    "    <p>if item in dictionary.keys:</p>\n",
    "        <p>dictionary.item += 1</p>\n",
    "    <p>else:</p> \n",
    "        <p>dictionary[item] = 1</p>\n"
   ]
  },
  {
   "cell_type": "markdown",
   "metadata": {},
   "source": [
    "### References\n",
    "<p>Example</p>\n",
    "<p>[1] Real Python; How to Iterate Through a Dictionary in Python; https://realpython.com/iterate-through-dictionary-python/</p>\n",
    "<p>[2] Career Karma; Python Add to Dictionary: A Guide; https://careerkarma.com/blog/python-add-to-dictionary/</p>\n",
    "<p>[3] Geeks for Geeks; Python | Get specific keys' values; https://www.geeksforgeeks.org/python-get-specific-keys-values/?ref=rp</p>\n",
    "<p>[4] Career Karma; Python TypeError: unhashable type: ‘list’ Solution; https://careerkarma.com/blog/python-typeerror-unhashable-type-list/</p>\n",
    "<p>[5] https://realpython.com/inner-functions-what-are-they-good-for/ </p>"
   ]
  },
  {
   "cell_type": "code",
   "execution_count": 10,
   "metadata": {},
   "outputs": [],
   "source": [
    "#First attempt at the task\n",
    "\n",
    "test = ['A', 'A', 'B', 'C', 'A']\n",
    "\n",
    "#This works for what we need right now.\n",
    "def counts(items):\n",
    "    '''Takes a list as input, and procudes a dictionary containing the unique contents of the list, \n",
    "    and the number of times it appeared in the list'''\n",
    "    results = {}\n",
    "    #Turning the list into a tuple lets us add it as a dictionary key\n",
    "    for item in items:\n",
    "        if type(item) == list:\n",
    "            item = tuple(item)\n",
    "        else:\n",
    "            pass\n",
    "        \n",
    "\n",
    "        if item in results.keys():\n",
    "            results[item] += 1\n",
    "        else:\n",
    "            results[item] = 1\n",
    "    return results        "
   ]
  },
  {
   "cell_type": "code",
   "execution_count": 44,
   "metadata": {},
   "outputs": [],
   "source": [
    "#Will see if I can find a way to unpack nested lists\n",
    "\n",
    "def counts2(items):\n",
    "    '''Takes a list as input, and procudes a dictionary containing the unique contents of the list, \n",
    "    and the number of times it appeared in the list'''\n",
    "    results = {}\n",
    "    #I'll need a function inside a function. I'm only unpacking to 1 level.\n",
    "    def unpack(item):\n",
    "        counts_list = []\n",
    "        for value in item:\n",
    "            counts_list.append(value)\n",
    "        return items.extend(counts_list)\n",
    "    \n",
    "        for item in items:\n",
    "            if type(item) == list:\n",
    "                unpack(item)\n",
    "            else:\n",
    "                pass\n",
    "\n",
    "        for item in items:    \n",
    "            if item in results.keys():\n",
    "                results[item] += 1\n",
    "            else:\n",
    "                results[item] = 1\n",
    "    return results        "
   ]
  },
  {
   "cell_type": "code",
   "execution_count": 45,
   "metadata": {},
   "outputs": [
    {
     "data": {
      "text/plain": [
       "{}"
      ]
     },
     "execution_count": 45,
     "metadata": {},
     "output_type": "execute_result"
    }
   ],
   "source": [
    "bigtest = [1, 5, 17, 82, 91, 'horse', 'cow', 'cheese', 47.7777, 1, 1, 1, 1, 1, 5, 17, 1, 82, 91, 'horse',\n",
    "           'cow', 'cheese', 15, 81, 'cheese', ['another', 'list', 'in', 'the', 'list', 77]]\n",
    "\n",
    "#When the list includes a list, we get the following error - TypeError: unhashable type: 'list'\n",
    "#Need to decide how I want to deal with this - seems I can go for a tuple, or perhaps iterate through the nested list.\n",
    "\n",
    "#counts2(bigtest)\n",
    "\n",
    "#If there's a list in the list, the error comes up again.\n",
    "listsinlists = [7, 1, 2, [3, 4, 5, [7, 1, 2, 3], 4], 5, 6]\n",
    "\n",
    "counts2(listsinlists)"
   ]
  }
 ],
 "metadata": {
  "kernelspec": {
   "display_name": "Python 3",
   "language": "python",
   "name": "python3"
  },
  "language_info": {
   "codemirror_mode": {
    "name": "ipython",
    "version": 3
   },
   "file_extension": ".py",
   "mimetype": "text/x-python",
   "name": "python",
   "nbconvert_exporter": "python",
   "pygments_lexer": "ipython3",
   "version": "3.8.3"
  }
 },
 "nbformat": 4,
 "nbformat_minor": 4
}
