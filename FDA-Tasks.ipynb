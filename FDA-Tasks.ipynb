{
 "cells": [
  {
   "cell_type": "markdown",
   "metadata": {},
   "source": [
    "# Fundamentals of Data Analysis\n",
    "## Tasks\n",
    "\n",
    "These are my solutions to the Tasks assessment for this module. The author is Brian Doheny."
   ]
  },
  {
   "cell_type": "markdown",
   "metadata": {},
   "source": [
    "### Task 1\n",
    "\n",
    "Write a Python function called counts that takes a list as input and returns a dictionary of unique items in the list as keys and the number of times each item appears as values. So, the input ['A', 'A', 'B', 'C', 'A'] should have output {'A': 3, 'B': 1, 'C': 1} . Your code should not depend on any module from the standard library or otherwise. You should research the task first and include a description with references of your algorithm in the notebook."
   ]
  },
  {
   "cell_type": "markdown",
   "metadata": {},
   "source": [
    "# Answer\n",
    "----"
   ]
  },
  {
   "cell_type": "code",
   "execution_count": null,
   "metadata": {},
   "outputs": [],
   "source": [
    "def counts(items):\n",
    "    '''Takes a list as input, and procudes a dictionary containing the unique contents of the list, \n",
    "    and the number of times it appeared in the list'''\n",
    "    #Create an empty dictionary to store the results.\n",
    "    results = {}\n",
    "    \n",
    "    #Defining a function to check if the next item is a list.\n",
    "    def count_list(item):\n",
    "        '''Checks if the list item is itself a list. \n",
    "        If it is a list, it will check if the next item of that list is itself a list.\n",
    "        It will keep doing this until it finds an element that is not a list.\n",
    "        A this point it will call count_item on that element.'''\n",
    "        for subitem in item:\n",
    "            #If the subitem is itself a list, it will call count_list again. \n",
    "            #This means no matter how many nested lists there are, it will iterate through all them.\n",
    "            if type(subitem) == list: \n",
    "                count_list(subitem)\n",
    "            #If the subitem is not a list, then it'll just run the count_item function defined below.\n",
    "            else:\n",
    "                count_item(subitem)\n",
    "    \n",
    "    #Because count_list iterates through a list, it'll throw an error if it were to encounter an uniterable object\n",
    "    #For example, a string. Therefore I need a second inner function specifically for uniterable objects.\n",
    "    #These will be the dictionary keys.\n",
    "    def count_item(item):\n",
    "        '''Checks if the list item already exists as a dictionary key. If it does, it will add 1 to its value.\n",
    "        If it does not exist as a dictionary key, it will create a new key for that item, and set the value to 1'''\n",
    "        if item in results:\n",
    "            results[item] += 1 \n",
    "        else:\n",
    "            results[item] = 1\n",
    "    \n",
    "    #Finally, this FOR loop will go through the initial list (the items paramter). \n",
    "    #If the item within the list is itself a list, That item will go through the count_list inner function. \n",
    "    #Otherwise it goes through count_item.\n",
    "    for item in items:\n",
    "        if type(item) == list: \n",
    "            count_list(item)\n",
    "        else:\n",
    "             count_item(item)\n",
    "        \n",
    "    return results            "
   ]
  },
  {
   "cell_type": "code",
   "execution_count": 38,
   "metadata": {},
   "outputs": [
    {
     "data": {
      "text/plain": [
       "{'A': 3, 'B': 1, 'C': 1}"
      ]
     },
     "execution_count": 38,
     "metadata": {},
     "output_type": "execute_result"
    }
   ],
   "source": [
    "test = ['A', 'A', 'B', 'C', 'A']\n",
    "counts(test)"
   ]
  },
  {
   "cell_type": "markdown",
   "metadata": {},
   "source": [
    "# Approach\n",
    "----\n",
    "## Checking for Dictionary keys\n",
    "\n",
    "As the program must return a dictionary of the unique items in the list, alongside how frequently they appear as value, we must first ensure we know how to iterate over a dictionary's keys. This will allow us to check if a list item already has exists as a key, and so our program can take the necessary next step; create a new key for the new item, or updating the value for the existing key if it is a duplicate item.\n",
    "\n",
    "This can be done by using a Dictionary Membership Test[6], which will return a boolean (True or False) depending on whether or not the variable already exists in the dictionary. The syntax for a dictionary membership test is simply:\n",
    "\n",
    "variable in dictionary\n",
    "\n",
    "or alternatively you can check if a key does not already exist in the dictionary by using:\n",
    "\n",
    "variable not in dictionary\n",
    "\n",
    "With this membership test, we can then use a straightforward If/Else statement to determine whether or not a new key must be created, or if an existing key needs its value altered[2][3]:\n",
    "\n",
    "if variable in dictionary:\n",
    "    dictionary[variable] += 1\n",
    "else:\n",
    "    dictionary[variable] = 1\n",
    "\n",
    "This gives us a fairly straightforward initial solution:"
   ]
  },
  {
   "cell_type": "code",
   "execution_count": 18,
   "metadata": {},
   "outputs": [],
   "source": [
    "# Define the test list, as offered in the problem.\n",
    "test = ['A', 'A', 'B', 'C', 'A']"
   ]
  },
  {
   "cell_type": "code",
   "execution_count": 26,
   "metadata": {},
   "outputs": [],
   "source": [
    "def counts(items):\n",
    "    '''Takes a list as input, and procudes a dictionary containing the unique contents of the list, \n",
    "    and the number of times it appeared in the list'''\n",
    "    \n",
    "    #Create an empty dictionary to store the results.\n",
    "    results = {}\n",
    "    \n",
    "    #Iterate over the list items, and see if a key already exists.\n",
    "    for item in items:\n",
    "        if item in results:\n",
    "            results[item] += 1 \n",
    "        else:\n",
    "            results[item] = 1\n",
    "    #Return the completed dictionary.\n",
    "    return results       "
   ]
  },
  {
   "cell_type": "code",
   "execution_count": 25,
   "metadata": {},
   "outputs": [
    {
     "data": {
      "text/plain": [
       "{'A': 3, 'B': 1, 'C': 1}"
      ]
     },
     "execution_count": 25,
     "metadata": {},
     "output_type": "execute_result"
    }
   ],
   "source": [
    "counts(test)"
   ]
  },
  {
   "cell_type": "markdown",
   "metadata": {},
   "source": [
    "## Nested lists and how to deal with them\n",
    "\n",
    "While the example list included in the problem statement doesn't contain any nested lists, they are something that the program might encounter in the real world. Therefore it's important to find a solution for this now, and one that will ideally scale with the program.\n",
    "\n",
    "As lists are a hashable data type (i.e. they can altered), they cannot be used as a dictionary key, as outlined in the Python Data Structure documentation[4]:\n",
    "\n",
    "```Unlike sequences, which are indexed by a range of numbers, dictionaries are indexed by keys, which can be any immutable type; strings and numbers can always be keys. Tuples can be used as keys if they contain only strings, numbers, or tuples; if a tuple contains any mutable object either directly or indirectly, it cannot be used as a key. You can’t use lists as keys, since lists can be modified in place using index assignments, slice assignments, or methods like append() and extend().```\n",
    "\n",
    "This therefore opens up two potential solutions - change the nested list to a tuple, or find a way to iterate over the nest lists.\n",
    "\n",
    "### Converting a nested into a tuple\n",
    "\n",
    "Converting the inner list into a tuple, and using that as the key is straightforward solution. The FOR loop would just need to check the type of the next item it's iterating through, and if it's a list, convert that item to a tuple:\n",
    "\n",
    "if type(list[item]) == list:\n",
    "    item = tuple(item)\n",
    "\n",
    "However, this would encounter an issue if there's yet another list within this second layer of lists. The Python Data Structure[4] documentation explicitly says that if the \"tuple contains a mutable object\" (in this case a list) \"either directly or indirectly, it cannot be used as a key\". Therefore the additional nested listed will prevent this solution from working on in all situations. Alongside this, tuples as keys might not be the ideal real world solution anyway, as it opens up the possibility of lengthy dictionary keys that may not serve much purpose for analysis. \n",
    "\n",
    "If we were to follow this path, it would look something like this: "
   ]
  },
  {
   "cell_type": "code",
   "execution_count": 29,
   "metadata": {},
   "outputs": [],
   "source": [
    "#If I were to follow path 1, this is how it would look.\n",
    "def counts(items):\n",
    "    '''Takes a list as input, and procudes a dictionary containing the unique contents of the list, \n",
    "    and the number of times it appeared in the list'''\n",
    "    \n",
    "    #Create an empty dictionary to store the results.\n",
    "    results = {}\n",
    "    \n",
    "    #Turning the list into a tuple lets us add it as a dictionary key.\n",
    "    #We would need to check that the item is a list before we go through the dictionary keys.\n",
    "    for item in items:\n",
    "        if type(item) == list: #check if the next item is a list.\n",
    "            item = tuple(item) #if so, change it to be a tuple.\n",
    "        else:\n",
    "            pass\n",
    "        \n",
    "        #Once any lists are changed to tuples, we can see if they already exist in the dictionary keys.\n",
    "        if item in results.keys():\n",
    "            results[item] += 1 \n",
    "        else:\n",
    "            results[item] = 1 \n",
    "   \n",
    "    #Return the completed dictionary.\n",
    "    return results        "
   ]
  },
  {
   "cell_type": "code",
   "execution_count": 30,
   "metadata": {},
   "outputs": [
    {
     "data": {
      "text/plain": [
       "{1: 7,\n",
       " 5: 2,\n",
       " 17: 2,\n",
       " 82: 2,\n",
       " 91: 2,\n",
       " 'horse': 2,\n",
       " 'cow': 2,\n",
       " 'cheese': 3,\n",
       " 47.7777: 1,\n",
       " 15: 1,\n",
       " 81: 1,\n",
       " ('another', 'list', 'in', 'the', 'list', 77): 1}"
      ]
     },
     "execution_count": 30,
     "metadata": {},
     "output_type": "execute_result"
    }
   ],
   "source": [
    "# Create a list containing a list to test this approach.\n",
    "bigtest = [1, 5, 17, 82, 91, 'horse', 'cow', 'cheese', 47.7777, 1, 1, 1, 1, 1, 5, 17, 1, 82, 91, 'horse',\n",
    "           'cow', 'cheese', 15, 81, 'cheese', ['another', 'list', 'in', 'the', 'list', 77]]\n",
    "\n",
    "counts(bigtest)"
   ]
  },
  {
   "cell_type": "code",
   "execution_count": 32,
   "metadata": {},
   "outputs": [
    {
     "ename": "TypeError",
     "evalue": "unhashable type: 'list'",
     "output_type": "error",
     "traceback": [
      "\u001b[0;31m---------------------------------------------------------------------------\u001b[0m",
      "\u001b[0;31mTypeError\u001b[0m                                 Traceback (most recent call last)",
      "\u001b[0;32m<ipython-input-32-352c55a82312>\u001b[0m in \u001b[0;36m<module>\u001b[0;34m\u001b[0m\n\u001b[1;32m      3\u001b[0m \u001b[0mlists_in_lists\u001b[0m \u001b[0;34m=\u001b[0m \u001b[0;34m[\u001b[0m\u001b[0;36m1\u001b[0m\u001b[0;34m,\u001b[0m \u001b[0;36m2\u001b[0m\u001b[0;34m,\u001b[0m \u001b[0;36m3\u001b[0m\u001b[0;34m,\u001b[0m \u001b[0;34m[\u001b[0m\u001b[0;36m1\u001b[0m\u001b[0;34m,\u001b[0m \u001b[0;36m2\u001b[0m\u001b[0;34m,\u001b[0m \u001b[0;36m3\u001b[0m\u001b[0;34m,\u001b[0m \u001b[0;36m27.124\u001b[0m\u001b[0;34m,\u001b[0m \u001b[0;34m[\u001b[0m\u001b[0;36m1\u001b[0m\u001b[0;34m,\u001b[0m \u001b[0;36m2\u001b[0m\u001b[0;34m,\u001b[0m \u001b[0;36m3\u001b[0m\u001b[0;34m,\u001b[0m \u001b[0;34m'hi'\u001b[0m\u001b[0;34m,\u001b[0m \u001b[0;34m[\u001b[0m\u001b[0;34m[\u001b[0m\u001b[0;36m1\u001b[0m\u001b[0;34m,\u001b[0m\u001b[0;34m[\u001b[0m\u001b[0;36m1\u001b[0m\u001b[0;34m,\u001b[0m \u001b[0;34m'hello'\u001b[0m\u001b[0;34m]\u001b[0m\u001b[0;34m,\u001b[0m \u001b[0;36m2\u001b[0m\u001b[0;34m,\u001b[0m \u001b[0;36m3\u001b[0m\u001b[0;34m]\u001b[0m\u001b[0;34m,\u001b[0m \u001b[0;36m1\u001b[0m\u001b[0;34m,\u001b[0m \u001b[0;36m2\u001b[0m\u001b[0;34m,\u001b[0m \u001b[0;36m3\u001b[0m\u001b[0;34m]\u001b[0m\u001b[0;34m]\u001b[0m\u001b[0;34m]\u001b[0m\u001b[0;34m]\u001b[0m\u001b[0;34m\u001b[0m\u001b[0;34m\u001b[0m\u001b[0m\n\u001b[1;32m      4\u001b[0m \u001b[0;34m\u001b[0m\u001b[0m\n\u001b[0;32m----> 5\u001b[0;31m \u001b[0mcounts\u001b[0m\u001b[0;34m(\u001b[0m\u001b[0mlists_in_lists\u001b[0m\u001b[0;34m)\u001b[0m\u001b[0;34m\u001b[0m\u001b[0;34m\u001b[0m\u001b[0m\n\u001b[0m",
      "\u001b[0;32m<ipython-input-29-2663131dcfc2>\u001b[0m in \u001b[0;36mcounts\u001b[0;34m(items)\u001b[0m\n\u001b[1;32m     16\u001b[0m \u001b[0;34m\u001b[0m\u001b[0m\n\u001b[1;32m     17\u001b[0m         \u001b[0;31m#Once any lists are changed to tuples, we can see if they already exist in the dictionary keys.\u001b[0m\u001b[0;34m\u001b[0m\u001b[0;34m\u001b[0m\u001b[0;34m\u001b[0m\u001b[0m\n\u001b[0;32m---> 18\u001b[0;31m         \u001b[0;32mif\u001b[0m \u001b[0mitem\u001b[0m \u001b[0;32min\u001b[0m \u001b[0mresults\u001b[0m\u001b[0;34m.\u001b[0m\u001b[0mkeys\u001b[0m\u001b[0;34m(\u001b[0m\u001b[0;34m)\u001b[0m\u001b[0;34m:\u001b[0m\u001b[0;34m\u001b[0m\u001b[0;34m\u001b[0m\u001b[0m\n\u001b[0m\u001b[1;32m     19\u001b[0m             \u001b[0mresults\u001b[0m\u001b[0;34m[\u001b[0m\u001b[0mitem\u001b[0m\u001b[0;34m]\u001b[0m \u001b[0;34m+=\u001b[0m \u001b[0;36m1\u001b[0m\u001b[0;34m\u001b[0m\u001b[0;34m\u001b[0m\u001b[0m\n\u001b[1;32m     20\u001b[0m         \u001b[0;32melse\u001b[0m\u001b[0;34m:\u001b[0m\u001b[0;34m\u001b[0m\u001b[0;34m\u001b[0m\u001b[0m\n",
      "\u001b[0;31mTypeError\u001b[0m: unhashable type: 'list'"
     ]
    }
   ],
   "source": [
    "# If there is yet another level of lists, really receive an error: \"TypeError: unhashable type: 'list'\"\n",
    "\n",
    "lists_in_lists = [1, 2, 3, [1, 2, 3, 27.124, [1, 2, 3, 'hi', [[1,[1, 'hello'], 2, 3], 1, 2, 3]]]]\n",
    "\n",
    "counts(lists_in_lists)"
   ]
  },
  {
   "cell_type": "markdown",
   "metadata": {},
   "source": [
    "### Iterating over nested lists.\n",
    "\n",
    "A more scalable and potentially useful solution is to iterate over any nested lists too. This will involve checking the data type of the next list item, and if it is a list, running the FOR loop again. This seems to be the most likely solution, as it will allow the program to count every individual item in every list. A program that can unpack nested lists could be used for counting the frequency of words in files or when scraping websites, and so has a real world use case. I am therefore interpreting this as the desired outcome for this problem.\n",
    "\n",
    "However in order to do this, I must find a way to repeat the FOR loop as many times as necessary, ideally without having to repeat my code over and over again. \n",
    "\n",
    "### Nested Functions and DRY[7]\n",
    "\n",
    "If I were to rely solely on FOR loops, I would require a loop for every level of nested list. As I do not know what lists this program will be used for, I therefore cannot estimate how many I would need. Should I include a dozen nested for loops? Will that cover every necessity? \n",
    "\n",
    "Obviously in such a situation my code would be unnecessarily repetitive in most scenarios, and not repetitive enough in others. I had to find a way to reuse my original FOR loop for updating the dictionary keys, without having to repeat that code endlessly, and fortunately Python has just the tool I need - nested functions[5]. This will ensure that my code is DRY - Don't Repeat Yourself[7].\n",
    "\n",
    "By defining my initial FOR loop as a nested function, I will be able call it as many times as I need without having to repeating those 5 lines of code each time. Better yet, as this function is nested within the Counts function, it can make use of the same input parameters as were provided when the Counts function was called. Similarly, if I am using a nested function for the dictionary keys FOR loop, I could also use one for the FOR loop which checks if the next list item is of list type itself.\n"
   ]
  },
  {
   "cell_type": "code",
   "execution_count": 35,
   "metadata": {},
   "outputs": [],
   "source": [
    "def counts(items):\n",
    "    '''Takes a list as input, and procudes a dictionary containing the unique contents of the list, \n",
    "    and the number of times it appeared in the list'''\n",
    "    #Create an empty dictionary to store the results.\n",
    "    results = {}\n",
    "    \n",
    "    #Defining a function to check if the next item is a list.\n",
    "    def count_list(item):\n",
    "        '''Checks if the list item is itself a list. \n",
    "        If it is a list, it will check if the next item of that list is itself a list.\n",
    "        It will keep doing this until it finds an element that is not a list.\n",
    "        A this point it will call count_item on that element.'''\n",
    "        for subitem in item:\n",
    "            #If the subitem is itself a list, it will call count_list again. \n",
    "            #This means no matter how many nested lists there are, it will iterate through all them.\n",
    "            if type(subitem) == list: \n",
    "                count_list(subitem)\n",
    "            #If the subitem is not a list, then it'll just run the count_item function defined below.\n",
    "            else:\n",
    "                count_item(subitem)\n",
    "    \n",
    "    #Because count_list iterates through a list, it'll throw an error if it were to encounter an uniterable object\n",
    "    #For example, a string. Therefore I need a second inner function specifically for uniterable objects.\n",
    "    #These will be the dictionary keys.\n",
    "    def count_item(item):\n",
    "        '''Checks if the list item already exists as a dictionary key. If it does, it will add 1 to its value.\n",
    "        If it does not exist as a dictionary key, it will create a new key for that item, and set the value to 1'''\n",
    "        if item in results:\n",
    "            results[item] += 1 \n",
    "        else:\n",
    "            results[item] = 1\n",
    "    \n",
    "    #Finally, this FOR loop will go through the initial list (the items paramter). \n",
    "    #If the item within the list is itself a list, That item will go through the count_list inner function. \n",
    "    #Otherwise it goes through count_item.\n",
    "    for item in items:\n",
    "        if type(item) == list: \n",
    "            count_list(item)\n",
    "        else:\n",
    "             count_item(item)\n",
    "        \n",
    "    return results            "
   ]
  },
  {
   "cell_type": "code",
   "execution_count": 37,
   "metadata": {},
   "outputs": [
    {
     "data": {
      "text/plain": [
       "{1: 6, 2: 5, 3: 5, 27.124: 1, 'hi': 1, 'hello': 1}"
      ]
     },
     "execution_count": 37,
     "metadata": {},
     "output_type": "execute_result"
    }
   ],
   "source": [
    "#This version will now work with lists nested at multiple levels.\n",
    "counts(lists_in_lists)"
   ]
  },
  {
   "cell_type": "markdown",
   "metadata": {},
   "source": [
    "### Other considerations\n",
    "\n",
    "The above function does what is requested within the problem statement, and will work no matter what list is provided. That said, there are potentially other additions that can be included in the answer for this. For example, how should this program deal with strings that contain the same letters, but different combinations of capitalized letters?\n",
    "\n",
    "For example, let's say our list contains two strings (among many): \n",
    "* \"DRY\" (the above mentioned \"Don't Repeat Yourself\" acronym), \n",
    "* \"dry\" (to mean lacking moisture)\n",
    "\n",
    "If I wish for my program to count the frequency of combinations of letters, then I would want these two to be treated exactly the same, and so they should both contribute to the same count. \n",
    "\n",
    "However, if I am looking to capture the content and meaning of the strings in the list, then I would want them to be counted separately, and perhaps later combine their totals if it made sense.\n",
    "\n",
    "The program above would follow the first of these approaches - treating these two words as fundamentally different, and therefore each having its own count. However, if we did wish to treat the two words as being the same, we could add an IF statement as the first step in the count_item function. Like so:\n",
    "\n",
    " def count_item(item):\n",
    "      \n",
    "        if type(item) == str:\n",
    "            item = item.lower()\n",
    "            \n",
    "        if item in results:\n",
    "            results[item] += 1 \n",
    "        else:\n",
    "            results[item] = 1\n"
   ]
  },
  {
   "cell_type": "code",
   "execution_count": 59,
   "metadata": {},
   "outputs": [],
   "source": [
    "def counts(items):\n",
    "    '''Takes a list as input, and procudes a dictionary containing the unique contents of the list, \n",
    "    and the number of times it appeared in the list'''\n",
    "    #Create an empty dictionary to store the results.\n",
    "    results = {}\n",
    "    \n",
    "    #Defining a function to check if the next item is a list.\n",
    "    def count_list(item):\n",
    "        '''Checks if the list item is itself a list. \n",
    "        If it is a list, it will check if the next item of that list is itself a list.\n",
    "        It will keep doing this until it finds an element that is not a list.\n",
    "        A this point it will call count_item on that element.'''\n",
    "        for subitem in item:\n",
    "            #If the subitem is itself a list, it will call count_list again. \n",
    "            #This means no matter how many nested lists there are, it will iterate through all them.\n",
    "            if type(subitem) == list: \n",
    "                count_list(subitem)\n",
    "            #If the subitem is not a list, then it'll just run the count_item function defined below.\n",
    "            else:\n",
    "                count_item(subitem)\n",
    "    \n",
    "    #Because count_list iterates through a list, it'll throw an error if it were to encounter an uniterable object\n",
    "    #For example, a string. Therefore I need a second inner function specifically for uniterable objects.\n",
    "    #These will be the dictionary keys.\n",
    "    def count_item(item):\n",
    "        '''If the list item is a string, it'll convert it to lower case.\n",
    "        Then checks if the list item already exists as a dictionary key. If it does, it will add 1 to its value.\n",
    "        If it does not exist as a dictionary key, it will create a new key for that item, and set the value to 1'''\n",
    "        if type(item) == str:\n",
    "            item = item.lower()\n",
    "            \n",
    "        if item in results:\n",
    "            results[item] += 1 \n",
    "        else:\n",
    "            results[item] = 1\n",
    "    \n",
    "    #Finally, this FOR loop will go through the initial list (the items paramter). \n",
    "    #If the item within the list is itself a list, That item will go through the count_list inner function. \n",
    "    #Otherwise it goes through count_item.\n",
    "    for item in items:\n",
    "        if type(item) == list: \n",
    "            count_list(item)\n",
    "        else:\n",
    "             count_item(item)\n",
    "        \n",
    "    return results            "
   ]
  },
  {
   "cell_type": "code",
   "execution_count": 60,
   "metadata": {},
   "outputs": [
    {
     "data": {
      "text/plain": [
       "{'dry': 5}"
      ]
     },
     "execution_count": 60,
     "metadata": {},
     "output_type": "execute_result"
    }
   ],
   "source": [
    "dry_list = ['dry', 'DRY', ['dry', 'DrY', 'DRY']]\n",
    "\n",
    "counts(dry_list)"
   ]
  },
  {
   "cell_type": "markdown",
   "metadata": {},
   "source": [
    "As my interpretation of the problem is to treat these two variations, \"dry\" and \"DRY\" as being unique, I have not included this additional IF statement in my final answer (found at the top)."
   ]
  },
  {
   "cell_type": "markdown",
   "metadata": {},
   "source": [
    "### References\n",
    "<p>Example</p>\n",
    "<p>[1] Real Python; How to Iterate Through a Dictionary in Python; https://realpython.com/iterate-through-dictionary-python/</p>\n",
    "<p>[2] Career Karma; Python Add to Dictionary: A Guide; https://careerkarma.com/blog/python-add-to-dictionary/</p>\n",
    "<p>[3] Geeks for Geeks; Python | Get specific keys' values; https://www.geeksforgeeks.org/python-get-specific-keys-values/?ref=rp</p>\n",
    "<p>[4] Python; Data Structures; https://docs.python.org/3/tutorial/datastructures.html#dictionaries</p>\n",
    "<p>[5] Real Python; Python Inner Functions—What Are They Good For?; https://realpython.com/inner-functions-what-are-they-good-for/ </p>\n",
    "<p>[6] Programiz; Python Dictionary; https://www.programiz.com/python-programming/dictionary</p>\n",
    "<p>[7] Wikipedia; Don't repeat yourself; https://en.wikipedia.org/wiki/Don%27t_repeat_yourself"
   ]
  },
  {
   "cell_type": "markdown",
   "metadata": {},
   "source": [
    "# Task 2\n",
    "\n",
    "Write a Python function called dicerolls that simulates rolling dice. Your function should take two parameters: the number of dice k and the number of times to roll the dice n. The function should simulate randomly rolling k dice n times, keeping track of each total face value. It should then return a dictionary with the number of times each possible total face value occurred. So, calling the function as diceroll(k=2, n=1000) should return a dictionary like:\n",
    "\n",
    "{2:19,3:50,4:82,5:112,6:135,7:174,8:133,9:114,10:75,11:70,12:36} \n",
    "You can use any module from the Python standard library you wish and you should include a description with references of your algorithm in the notebook."
   ]
  },
  {
   "cell_type": "markdown",
   "metadata": {},
   "source": [
    "Notes \n",
    "\n",
    "Will likely use NumPy for this. randint could probably do it.\n",
    "Want to ensure I have all available combinations as dictionary keys, even if it's rolled 0 times.\n",
    "Can then use numpy to pick a number from 1 to 6 k times and sum the total. Then add 1 to the corresponding dictionary key.\n",
    "This would then be run n times and return the dictionary.\n",
    "Need to ensure the dictionary is reset each time, so will be defined within the function.\n",
    "\n",
    "Note - Can't use NumPy as it's not in the standard library! Will have to use Random."
   ]
  },
  {
   "cell_type": "code",
   "execution_count": 61,
   "metadata": {},
   "outputs": [],
   "source": [
    "import itertools\n",
    "import random\n",
    "\n",
    "def diceroll(k, n):\n",
    "#suggestion for how to create the initial dictionary - https://stackoverflow.com/questions/39400257/python-itertools-how-to-roll-n-dice\n",
    "#Creating dictionary keys for all possible results first, as smaller samples might not see a particular combination rolled.\n",
    "    dice_results = {}\n",
    "    \n",
    "    for dice in itertools.product(range(1, 7), repeat=k):\n",
    "        combination = sum(dice)            \n",
    "        if combination not in dice_results.keys():\n",
    "            dice_results[combination] = 0 \n",
    "    \n",
    "    #random documentation - https://docs.python.org/3/library/random.html\n",
    "    for i in range(n):\n",
    "        total = 0\n",
    "        for j in range(k):\n",
    "            total += random.randrange(1,7)\n",
    "        dice_results[total] += 1 \n",
    "        \n",
    "        #total = sum(np.random.randint(1,7,k))\n",
    "        #dice_results[total] += 1\n",
    "        \n",
    "    return dice_results"
   ]
  },
  {
   "cell_type": "code",
   "execution_count": 62,
   "metadata": {},
   "outputs": [
    {
     "data": {
      "text/plain": [
       "{2: 31,\n",
       " 3: 51,\n",
       " 4: 89,\n",
       " 5: 124,\n",
       " 6: 143,\n",
       " 7: 162,\n",
       " 8: 138,\n",
       " 9: 97,\n",
       " 10: 79,\n",
       " 11: 63,\n",
       " 12: 23}"
      ]
     },
     "execution_count": 62,
     "metadata": {},
     "output_type": "execute_result"
    }
   ],
   "source": [
    "diceroll(k=2, n=1000)"
   ]
  }
 ],
 "metadata": {
  "kernelspec": {
   "display_name": "Python 3",
   "language": "python",
   "name": "python3"
  },
  "language_info": {
   "codemirror_mode": {
    "name": "ipython",
    "version": 3
   },
   "file_extension": ".py",
   "mimetype": "text/x-python",
   "name": "python",
   "nbconvert_exporter": "python",
   "pygments_lexer": "ipython3",
   "version": "3.8.3"
  }
 },
 "nbformat": 4,
 "nbformat_minor": 4
}
