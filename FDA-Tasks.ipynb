{
 "cells": [
  {
   "cell_type": "markdown",
   "metadata": {},
   "source": [
    "# Fundamentals of Data Analysis\n",
    "## Tasks\n",
    "\n",
    "These are my solutions to the Tasks assessment for this module. The author is Brian Doheny."
   ]
  },
  {
   "cell_type": "markdown",
   "metadata": {},
   "source": [
    "### Task 1\n",
    "\n",
    "Write a Python function called counts that takes a list as input and returns a dictionary of unique items in the list as keys and the number of times each item appears as values. So, the input ['A', 'A', 'B', 'C', 'A'] should have output {'A': 3, 'B': 1, 'C': 1} . Your code should not depend on any module from the standard library or otherwise. You should research the task first and include a description with references of your algorithm in the notebook."
   ]
  },
  {
   "cell_type": "markdown",
   "metadata": {},
   "source": [
    "### Pseudocode\n",
    "\n",
    "<p>for item in list:</p>\n",
    "    <p>if item in dictionary.keys:</p>\n",
    "        <p>dictionary.item += 1</p>\n",
    "    <p>else:</p> \n",
    "        <p>dictionary[item] = 1</p>\n"
   ]
  },
  {
   "cell_type": "markdown",
   "metadata": {},
   "source": [
    "# Approach\n",
    "\n",
    "Having done some work with Python dictionaries over the summer, I was aware of how to iterate over dictionary keys. This meant it was pretty straight forward for me to work backwards and check if the list item is within those keys, if it is then add 1 to its count, otherwise create a new key and set the value at 1. This works fine for the example list, and other lists contain strings, floats, integers and such.\n",
    "\n",
    "However, if the list contains another list, this approach encounters a problem. A list is an unhashable type, and so it cannot be used as a dictionary key. As outlined on the Python Data Structure documentation[4]:\n",
    "\n",
    "```Unlike sequences, which are indexed by a range of numbers, dictionaries are indexed by keys, which can be any immutable type; strings and numbers can always be keys. Tuples can be used as keys if they contain only strings, numbers, or tuples; if a tuple contains any mutable object either directly or indirectly, it cannot be used as a key. You can’t use lists as keys, since lists can be modified in place using index assignments, slice assignments, or methods like append() and extend().```\n",
    "\n",
    "This means I have two paths towards a potential solution.\n",
    "1) Convert the inner list into a tuple, and use that as the key. This is straightforward enough, as the FOR loop would just need to check the type of the next item it's iterating through, and if it's a list, convert that item to a tuple. However, this would encounter an issue if there's yet another list within this second layer of lists. The Python Data Structure documentation explicitly says that if the tuple contains a mutable object (in this case a list) either directly or indirectly, it cannot be used as a key. Therefore the additional nested listed will prevent this solution from working on all occassions. Alongside this, tuples as keys wouldn't be the idea solution anyway, as I'm taking this problem to mean that we want to count every individual item in every individual list.\n",
    "2) Find a way to unpack or iterate over any and all nested lists. This seems to be the most likely solution, as it will allow the program to count every individual item in every list. As long as I can find a way to iterate over 2nd and 3rd nested lists, it should work regardless of how deep further lists are nested. \n",
    "\n",
    "I'll therefore be going for path 2 for my solution. \n",
    "\n"
   ]
  },
  {
   "cell_type": "markdown",
   "metadata": {},
   "source": [
    "### References\n",
    "<p>Example</p>\n",
    "<p>[1] Real Python; How to Iterate Through a Dictionary in Python; https://realpython.com/iterate-through-dictionary-python/</p>\n",
    "<p>[2] Career Karma; Python Add to Dictionary: A Guide; https://careerkarma.com/blog/python-add-to-dictionary/</p>\n",
    "<p>[3] Geeks for Geeks; Python | Get specific keys' values; https://www.geeksforgeeks.org/python-get-specific-keys-values/?ref=rp</p>\n",
    "<p>[4] Python; Data Structures; https://docs.python.org/3/tutorial/datastructures.html#dictionaries</p>\n",
    "<p>[5] https://realpython.com/inner-functions-what-are-they-good-for/ </p>"
   ]
  },
  {
   "cell_type": "code",
   "execution_count": 5,
   "metadata": {},
   "outputs": [],
   "source": [
    "#Setting the example list from the problem. This will be an initial test for my program.\n",
    "test = ['A', 'A', 'B', 'C', 'A']\n",
    "\n",
    "#If I were to follow path 1, this is how it would look.\n",
    "def counts(items):\n",
    "    '''Takes a list as input, and procudes a dictionary containing the unique contents of the list, \n",
    "    and the number of times it appeared in the list'''\n",
    "    #Create an empty dictionary to store the results.\n",
    "    results = {}\n",
    "    \n",
    "    #Turning the list into a tuple lets us add it as a dictionary key.\n",
    "    #We would need to check that the item is a list before we go through the dictionary keys.\n",
    "    for item in items:\n",
    "        if type(item) == list: #check if the next item is a list.\n",
    "            item = tuple(item) #if so, change it to be a tuple.\n",
    "        else:\n",
    "            pass\n",
    "        #Once any lists are changed to tuples, we can see if they already exist in the dictionary keys.\n",
    "        if item in results.keys():\n",
    "            results[item] += 1 #if the dictionary exists, add 1 to its count.\n",
    "        else:\n",
    "            results[item] = 1 #if the dictionary does not exist, create a new key and set the count to 1.\n",
    "    return results        "
   ]
  },
  {
   "cell_type": "code",
   "execution_count": 2,
   "metadata": {},
   "outputs": [],
   "source": [
    "#Will see if I can find a way to unpack nested lists\n",
    "\n",
    "def counts2(items):\n",
    "    '''Takes a list as input, and procudes a dictionary containing the unique contents of the list, \n",
    "    and the number of times it appeared in the list'''\n",
    "    results = {}\n",
    "    #I'll need a function inside a function. I'm only unpacking to 1 level.\n",
    "    def unpack(item):\n",
    "        counts_list = []\n",
    "        for value in item:\n",
    "            counts_list.append(value)\n",
    "        return items.extend(counts_list)\n",
    "    \n",
    "        for item in items:\n",
    "            if type(item) == list:\n",
    "                unpack(item)\n",
    "            else:\n",
    "                pass\n",
    "\n",
    "        for item in items:    \n",
    "            if item in results.keys():\n",
    "                results[item] += 1\n",
    "            else:\n",
    "                results[item] = 1\n",
    "    return results        "
   ]
  },
  {
   "cell_type": "code",
   "execution_count": 6,
   "metadata": {},
   "outputs": [
    {
     "data": {
      "text/plain": [
       "{1: 7,\n",
       " 5: 2,\n",
       " 17: 2,\n",
       " 82: 2,\n",
       " 91: 2,\n",
       " 'horse': 2,\n",
       " 'cow': 2,\n",
       " 'cheese': 3,\n",
       " 47.7777: 1,\n",
       " 15: 1,\n",
       " 81: 1,\n",
       " ('another', 'list', 'in', 'the', 'list', 77): 1}"
      ]
     },
     "execution_count": 6,
     "metadata": {},
     "output_type": "execute_result"
    }
   ],
   "source": [
    "bigtest = [1, 5, 17, 82, 91, 'horse', 'cow', 'cheese', 47.7777, 1, 1, 1, 1, 1, 5, 17, 1, 82, 91, 'horse',\n",
    "           'cow', 'cheese', 15, 81, 'cheese', ['another', 'list', 'in', 'the', 'list', 77]]\n",
    "\n",
    "#When the list includes a list, we get the following error - TypeError: unhashable type: 'list'\n",
    "#Need to decide how I want to deal with this - seems I can go for a tuple, or perhaps iterate through the nested list.\n",
    "\n",
    "#counts2(bigtest)\n",
    "\n",
    "#If there's a list in the list, the error comes up again.\n",
    "listsinlists = [7, 1, 2, [3, 4, 5, [7, 1, 2, 3], 4], 5, 6]\n",
    "\n",
    "counts(bigtest)"
   ]
  }
 ],
 "metadata": {
  "kernelspec": {
   "display_name": "Python 3",
   "language": "python",
   "name": "python3"
  },
  "language_info": {
   "codemirror_mode": {
    "name": "ipython",
    "version": 3
   },
   "file_extension": ".py",
   "mimetype": "text/x-python",
   "name": "python",
   "nbconvert_exporter": "python",
   "pygments_lexer": "ipython3",
   "version": "3.8.3"
  }
 },
 "nbformat": 4,
 "nbformat_minor": 4
}
